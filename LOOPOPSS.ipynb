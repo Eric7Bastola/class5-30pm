{
 "cells": [
  {
   "cell_type": "code",
   "execution_count": 1,
   "id": "77a429c2",
   "metadata": {},
   "outputs": [],
   "source": [
    "#LOOPS\n",
    "# type of loops\n",
    "# 1) for loop\n",
    "# 2) while loops\n"
   ]
  },
  {
   "cell_type": "code",
   "execution_count": 7,
   "id": "8b4c3eec",
   "metadata": {},
   "outputs": [
    {
     "name": "stdout",
     "output_type": "stream",
     "text": [
      "5\n",
      "2\n"
     ]
    }
   ],
   "source": [
    "# for loops\n",
    "\n",
    "\n",
    "for i in range(5,1,-3):\n",
    "    print(i)"
   ]
  },
  {
   "cell_type": "code",
   "execution_count": 4,
   "id": "18c96012",
   "metadata": {},
   "outputs": [
    {
     "name": "stdout",
     "output_type": "stream",
     "text": [
      "1 goal\n",
      "2 goals\n",
      "3 goals\n",
      "4 goals\n",
      "5 goals\n",
      "6 goals\n",
      "7 goals\n",
      "8 goals\n",
      "9 goals\n",
      "10 goals\n"
     ]
    }
   ],
   "source": [
    "print(1,\"goal\")\n",
    "for i in range(1,10):\n",
    "   \n",
    "    print(i+1, \"goals\")"
   ]
  },
  {
   "cell_type": "code",
   "execution_count": 7,
   "id": "730be5a3",
   "metadata": {},
   "outputs": [
    {
     "name": "stdout",
     "output_type": "stream",
     "text": [
      "Enter a number to gets its multiple table = 12\n",
      "12 * 1 = 12\n",
      "12 * 2 = 24\n",
      "12 * 3 = 36\n",
      "12 * 4 = 48\n",
      "12 * 5 = 60\n",
      "12 * 6 = 72\n",
      "12 * 7 = 84\n",
      "12 * 8 = 96\n",
      "12 * 9 = 108\n",
      "12 * 10 = 120\n"
     ]
    }
   ],
   "source": [
    "a= int(input(\"Enter a number to gets its multiple table = \"))\n",
    "for i in range(1,11):\n",
    "    print(a,\"*\",i,\"=\",a*i)\n",
    "    "
   ]
  },
  {
   "cell_type": "code",
   "execution_count": 6,
   "id": "7025e3ed",
   "metadata": {},
   "outputs": [
    {
     "name": "stdout",
     "output_type": "stream",
     "text": [
      "Enter the value of n= 4\n",
      "Enter value of x= 1\n",
      "1\n",
      "Enter value of x= 2\n",
      "3\n",
      "Enter value of x= 3\n",
      "6\n",
      "Enter value of x= 4\n",
      "10\n"
     ]
    }
   ],
   "source": [
    "s=0\n",
    "n=int(input(\"Enter the value of n= \"))\n",
    "for i in range(n):\n",
    "    x= int(input(\"Enter value of x= \"))\n",
    "    s=s+x\n",
    "    print(s)\n",
    "    \n"
   ]
  },
  {
   "cell_type": "markdown",
   "id": "03a177d5",
   "metadata": {},
   "source": []
  },
  {
   "cell_type": "code",
   "execution_count": 1,
   "id": "43b0f8d7",
   "metadata": {},
   "outputs": [
    {
     "name": "stdout",
     "output_type": "stream",
     "text": [
      "Enter number = 4\n",
      "4 * 1 = 4\n",
      "4 * 2 = 8\n",
      "4 * 3 = 12\n",
      "4 * 4 = 16\n",
      "4 * 5 = 20\n",
      "4 * 6 = 24\n",
      "4 * 7 = 28\n",
      "4 * 8 = 32\n",
      "4 * 9 = 36\n",
      "4 * 10 = 40\n"
     ]
    }
   ],
   "source": [
    "a=int(input(\"Enter number = \"))\n",
    "for i in range(1,11):\n",
    "    print(a, \"*\", i, \"=\", i*a)\n",
    "    "
   ]
  },
  {
   "cell_type": "code",
   "execution_count": 6,
   "id": "c3ef3011",
   "metadata": {},
   "outputs": [
    {
     "name": "stdout",
     "output_type": "stream",
     "text": [
      "Enter a number= 3\n",
      "Enter a name= iman\n",
      "Enter phone number= 981223445\n",
      " iman 981223445\n",
      "\n",
      "Enter a name= Eric \n",
      "Enter phone number= 07997131231\n",
      " iman 981223445\n",
      " Eric  07997131231\n",
      "\n",
      "Enter a name= hiadi\n",
      "Enter phone number= 222432\n",
      " iman 981223445\n",
      " Eric  07997131231\n",
      " hiadi 222432\n",
      "\n"
     ]
    }
   ],
   "source": [
    "a= str()\n",
    "b= int(input(\"Enter a number= \"))\n",
    "for i in range(b):\n",
    "    x= input(\"Enter a name= \")\n",
    "    p= input(\"Enter phone number= \")\n",
    "    \n",
    "    a= a+\" \" +x+\" \"+p + \"\\n\"\n",
    "    print(a)"
   ]
  },
  {
   "cell_type": "code",
   "execution_count": 1,
   "id": "021832ad",
   "metadata": {},
   "outputs": [
    {
     "name": "stdout",
     "output_type": "stream",
     "text": [
      "Enter the value of n= 12\n",
      "479001600\n"
     ]
    }
   ],
   "source": [
    "x=1\n",
    "a=int(input(\"Enter the value of n= \"))\n",
    "for i in range(1,a+1):\n",
    "    x=x*i\n",
    "print(x)\n",
    "    \n",
    "\n"
   ]
  },
  {
   "cell_type": "code",
   "execution_count": 8,
   "id": "9753bfae",
   "metadata": {},
   "outputs": [
    {
     "name": "stdout",
     "output_type": "stream",
     "text": [
      "E|r|i|c|"
     ]
    }
   ],
   "source": [
    "a=\"Eric\"\n",
    "\n",
    "for i in a:\n",
    "   \n",
    "    print(i, end=\"|\")\n",
    "    "
   ]
  },
  {
   "cell_type": "code",
   "execution_count": 26,
   "id": "fbfa294c",
   "metadata": {},
   "outputs": [
    {
     "name": "stdout",
     "output_type": "stream",
     "text": [
      " II K XA ALAI!!"
     ]
    }
   ],
   "source": [
    "a=\" OOII K XA TALAI!!\"\n",
    "for i in a:\n",
    "    if i!= \"O\" and i!=\"T\":\n",
    "        print(i,end=\"\")"
   ]
  },
  {
   "cell_type": "code",
   "execution_count": 4,
   "id": "e9e2a9c2",
   "metadata": {},
   "outputs": [
    {
     "name": "stdout",
     "output_type": "stream",
     "text": [
      "5\n",
      "4\n",
      "3\n",
      "2\n",
      "1\n",
      "0\n"
     ]
    }
   ],
   "source": [
    "for i in range(5,-1,-1):\n",
    "    print(i)"
   ]
  },
  {
   "cell_type": "code",
   "execution_count": 6,
   "id": "b682c3b5",
   "metadata": {},
   "outputs": [
    {
     "name": "stdout",
     "output_type": "stream",
     "text": [
      "()()()()()\n",
      "()()()()\n",
      "()()()\n",
      "()()\n",
      "()\n"
     ]
    }
   ],
   "source": [
    "for i in range(5,0,-1):\n",
    "    print(i*\"()\")"
   ]
  },
  {
   "cell_type": "code",
   "execution_count": 6,
   "id": "9016eb8a",
   "metadata": {},
   "outputs": [
    {
     "name": "stdout",
     "output_type": "stream",
     "text": [
      "ericericericericeric\n"
     ]
    }
   ],
   "source": [
    "i= 5\n",
    "print(i*\"eric\")\n"
   ]
  },
  {
   "cell_type": "code",
   "execution_count": 12,
   "id": "aede0cd6",
   "metadata": {},
   "outputs": [
    {
     "data": {
      "text/plain": [
       "'A'"
      ]
     },
     "execution_count": 12,
     "metadata": {},
     "output_type": "execute_result"
    }
   ],
   "source": [
    "a= \"BASTOLA\"\n",
    "a[1]"
   ]
  },
  {
   "cell_type": "code",
   "execution_count": 3,
   "id": "d499871d",
   "metadata": {},
   "outputs": [
    {
     "name": "stdout",
     "output_type": "stream",
     "text": [
      "a l o t s a B "
     ]
    }
   ],
   "source": [
    "a=\"Bastola\"\n",
    "b= len(a)-1\n",
    "for i in range(b,-1,-1):\n",
    "    print(a[i], end=\" \")"
   ]
  },
  {
   "cell_type": "code",
   "execution_count": 7,
   "id": "f2684216",
   "metadata": {},
   "outputs": [
    {
     "name": "stdout",
     "output_type": "stream",
     "text": [
      "I N A M\n",
      "M I N A\n",
      "A M I N\n",
      "N A M I\n"
     ]
    }
   ],
   "source": [
    "a=\"IMAN\"\n",
    "for i in range(len(a)):\n",
    "    print(a[i],a[i-1],a[i-2],a[i-3])"
   ]
  },
  {
   "cell_type": "code",
   "execution_count": 5,
   "id": "162ea957",
   "metadata": {},
   "outputs": [
    {
     "name": "stdout",
     "output_type": "stream",
     "text": [
      "BASTOLA\n",
      "BASTOL\n",
      "BASTO\n",
      "BAST\n",
      "BAS\n",
      "BA\n",
      "B\n",
      "\n"
     ]
    }
   ],
   "source": [
    "a=\"BASTOLA\"\n",
    "for i in range(len(a),-1,-1):\n",
    "    print(a[0:i])"
   ]
  },
  {
   "cell_type": "code",
   "execution_count": 11,
   "id": "65f91e2a",
   "metadata": {},
   "outputs": [
    {
     "name": "stdout",
     "output_type": "stream",
     "text": [
      "a\n",
      "a\n",
      "s\n"
     ]
    }
   ],
   "source": [
    "\n",
    "\n",
    "a=\"aas\"\n",
    "for i in a:\n",
    "    print(i)"
   ]
  },
  {
   "cell_type": "code",
   "execution_count": 12,
   "id": "64d2c07f",
   "metadata": {},
   "outputs": [
    {
     "name": "stdout",
     "output_type": "stream",
     "text": [
      "1\n",
      "2\n",
      "3\n",
      "4\n",
      "5\n",
      "6\n"
     ]
    }
   ],
   "source": [
    "# control statement\n",
    "\n",
    "for i in range(1,55):\n",
    "    if i==7:\n",
    "        break\n",
    "    print(i)    "
   ]
  },
  {
   "cell_type": "code",
   "execution_count": 15,
   "id": "6d6195d6",
   "metadata": {},
   "outputs": [
    {
     "name": "stdout",
     "output_type": "stream",
     "text": [
      "M|Y|N|A|M|E|I|S|E|R|I|C|"
     ]
    }
   ],
   "source": [
    "a=\"MY NAME IS ERIC\"\n",
    "for i in a:\n",
    "    if i!=\" \":\n",
    "        print(i,end=\"|\")\n",
    "        \n",
    "    \n",
    "    "
   ]
  },
  {
   "cell_type": "code",
   "execution_count": 1,
   "id": "1268fc15",
   "metadata": {},
   "outputs": [
    {
     "ename": "NameError",
     "evalue": "name 'a' is not defined",
     "output_type": "error",
     "traceback": [
      "\u001b[1;31m---------------------------------------------------------------------------\u001b[0m",
      "\u001b[1;31mNameError\u001b[0m                                 Traceback (most recent call last)",
      "Input \u001b[1;32mIn [1]\u001b[0m, in \u001b[0;36m<cell line: 2>\u001b[1;34m()\u001b[0m\n\u001b[0;32m      1\u001b[0m N\u001b[38;5;241m=\u001b[39m\u001b[38;5;124m\"\u001b[39m\u001b[38;5;124mHello everyone\u001b[39m\u001b[38;5;124m\"\u001b[39m\n\u001b[1;32m----> 2\u001b[0m \u001b[38;5;28;01mfor\u001b[39;00m i \u001b[38;5;129;01min\u001b[39;00m \u001b[43ma\u001b[49m:\n\u001b[0;32m      3\u001b[0m     \u001b[38;5;28;01mif\u001b[39;00m i\u001b[38;5;241m!=\u001b[39m\u001b[38;5;124m\"\u001b[39m\u001b[38;5;124mo\u001b[39m\u001b[38;5;124m\"\u001b[39m:\n\u001b[0;32m      4\u001b[0m         \u001b[38;5;28;01mbreak\u001b[39;00m\n",
      "\u001b[1;31mNameError\u001b[0m: name 'a' is not defined"
     ]
    }
   ],
   "source": []
  },
  {
   "cell_type": "code",
   "execution_count": 6,
   "id": "5a0ff127",
   "metadata": {},
   "outputs": [
    {
     "name": "stdout",
     "output_type": "stream",
     "text": [
      "H e l l "
     ]
    }
   ],
   "source": [
    "N=\"Hello everyone\"\n",
    "for i in N:\n",
    "    if i==\"o\":\n",
    "        break\n",
    "    else:\n",
    "        print(i, end=\" \")"
   ]
  },
  {
   "cell_type": "code",
   "execution_count": 4,
   "id": "30dc0a2a",
   "metadata": {},
   "outputs": [
    {
     "name": "stdout",
     "output_type": "stream",
     "text": [
      "E\n",
      "R\n",
      "I\n",
      "C\n",
      "B\n",
      "A\n",
      "S\n",
      "T\n",
      "O\n",
      "L\n",
      "A\n"
     ]
    }
   ],
   "source": [
    "a= \"ERIC BASTOLA\"\n",
    "\n",
    "for i in a:\n",
    "     if i!=\" \":\n",
    "        print(i)        "
   ]
  },
  {
   "cell_type": "code",
   "execution_count": 1,
   "id": "27f5eb7e",
   "metadata": {},
   "outputs": [
    {
     "name": "stdout",
     "output_type": "stream",
     "text": [
      "2\n",
      "4\n",
      "6\n",
      "8\n",
      "10\n",
      "12\n",
      "14\n",
      "16\n",
      "18\n",
      "20\n"
     ]
    }
   ],
   "source": [
    "for i in range(1,21):\n",
    "    if i%2 !=0:\n",
    "        continue\n",
    "    else:\n",
    "        print(i)"
   ]
  },
  {
   "cell_type": "code",
   "execution_count": 23,
   "id": "27638139",
   "metadata": {},
   "outputs": [
    {
     "name": "stdout",
     "output_type": "stream",
     "text": [
      "Enter a number= 2750\n",
      "it is composite\n"
     ]
    }
   ],
   "source": [
    "n= int(input(\"Enter a number= \"))\n",
    "if n>=2:\n",
    "    for i in range(2,n):\n",
    "        if n%i==0:\n",
    "            print(\"it is composite\")\n",
    "            break\n",
    "    else:\n",
    "        print(\"it is prime\")\n",
    "else:\n",
    "    print(\"INVALID INPUT\")\n",
    "    \n",
    "        "
   ]
  },
  {
   "cell_type": "code",
   "execution_count": 2,
   "id": "01d864e3",
   "metadata": {},
   "outputs": [
    {
     "name": "stdout",
     "output_type": "stream",
     "text": [
      "Enter a word= saadad\n",
      "It is not palindrome\n"
     ]
    }
   ],
   "source": [
    "a= input(\"Enter a word= \")\n",
    "b= len(a)-1\n",
    "c=str()\n",
    "for i in range(b,-1,-1):\n",
    "    c= c+a[i]\n",
    "if c==a:\n",
    "    print(\"It is palindrome\")\n",
    "else:\n",
    "    print(\"It is not palindrome\")\n",
    "    \n",
    "    "
   ]
  },
  {
   "cell_type": "code",
   "execution_count": 1,
   "id": "caca8dec",
   "metadata": {},
   "outputs": [
    {
     "name": "stdout",
     "output_type": "stream",
     "text": [
      "5\n",
      "4\n",
      "3\n",
      "2\n",
      "1\n",
      "0\n"
     ]
    }
   ],
   "source": [
    "a=5\n",
    "while a>=0:\n",
    "    print(a)\n",
    "    a=a-1"
   ]
  },
  {
   "cell_type": "code",
   "execution_count": 2,
   "id": "7e1e24b7",
   "metadata": {},
   "outputs": [
    {
     "name": "stdout",
     "output_type": "stream",
     "text": [
      "Enter a number= 5\n",
      "5 * 1 = 5\n",
      "5 * 2 = 10\n",
      "5 * 3 = 15\n",
      "5 * 4 = 20\n",
      "5 * 5 = 25\n",
      "5 * 6 = 30\n",
      "5 * 7 = 35\n",
      "5 * 8 = 40\n",
      "5 * 9 = 45\n",
      "5 * 10 = 50\n"
     ]
    }
   ],
   "source": [
    "a=1\n",
    "b=int(input(\"Enter a number= \"))\n",
    "while a<=10:\n",
    "    print(b, \"*\", a,\"=\",b*a)\n",
    "    a=a+1"
   ]
  },
  {
   "cell_type": "code",
   "execution_count": 6,
   "id": "87b1fa34",
   "metadata": {},
   "outputs": [
    {
     "name": "stdout",
     "output_type": "stream",
     "text": [
      "Enter a number= 3\n",
      "Enter a name= dfsdf\n",
      " dfsdf\n",
      "\n",
      "Enter a name= dfwwef\n",
      " dfsdf\n",
      " dfwwef\n",
      "\n",
      "Enter a name= ewffew\n",
      " dfsdf\n",
      " dfwwef\n",
      " ewffew\n",
      "\n",
      "Enter a name= dqq\n",
      " dfsdf\n",
      " dfwwef\n",
      " ewffew\n",
      " dqq\n",
      "\n"
     ]
    }
   ],
   "source": [
    "a=0\n",
    "c=int(input(\"Enter a number= \"))\n",
    "x=\"\"\n",
    "while a<=c:\n",
    "    v=input(\"Enter a name= \")\n",
    "    x=x+\" \"+v +\"\\n\"\n",
    "    print(x)\n",
    "    a=a+1"
   ]
  },
  {
   "cell_type": "code",
   "execution_count": null,
   "id": "eaa4ec7c",
   "metadata": {},
   "outputs": [],
   "source": [
    "i=0\n",
    "s=str()\n",
    "n=int(input(\"Enter the value of n= \"))\n",
    "while i<=n:\n",
    "    x= input(\"Enter a word= \")\n",
    "    s= s+\" \"+ x+ \"\\n\"\n",
    "    print(s)\n",
    "    i= i+1\n",
    "\n",
    "\n"
   ]
  },
  {
   "cell_type": "code",
   "execution_count": 2,
   "id": "fbb35e8d",
   "metadata": {},
   "outputs": [
    {
     "name": "stdout",
     "output_type": "stream",
     "text": [
      "Enter a number= 3\n",
      "Enter a value= sd\n",
      " sd\n",
      "\n",
      "Enter a value= sss\n",
      " sd\n",
      " sss\n",
      "\n",
      "Enter a value= sss\n",
      " sd\n",
      " sss\n",
      " sss\n",
      "\n",
      "Enter a value= aA\n",
      " sd\n",
      " sss\n",
      " sss\n",
      " aA\n",
      "\n"
     ]
    }
   ],
   "source": [
    "i=0\n",
    "x=\"\"\n",
    "b=int(input(\"Enter a number= \"))\n",
    "while i<=b:\n",
    "    c=input(\"Enter a value= \")\n",
    "    x= x+\" \"+ c + \"\\n\"\n",
    "    \n",
    "    print(x)\n",
    "    i=i+1"
   ]
  },
  {
   "cell_type": "code",
   "execution_count": 3,
   "id": "2e6db4f6",
   "metadata": {},
   "outputs": [
    {
     "name": "stdout",
     "output_type": "stream",
     "text": [
      "E\n",
      "R\n",
      "I\n",
      "C\n"
     ]
    }
   ],
   "source": [
    "a=\"ERIC\"\n",
    "for i in a:\n",
    "    print(i)"
   ]
  },
  {
   "cell_type": "code",
   "execution_count": 2,
   "id": "2d8c50ed",
   "metadata": {},
   "outputs": [
    {
     "name": "stdout",
     "output_type": "stream",
     "text": [
      "B a s t o l a "
     ]
    }
   ],
   "source": [
    "d=\"Bastola\"\n",
    "x=0\n",
    "c=len(d)\n",
    "while x<c:\n",
    "    print(d[x], end=\" \")\n",
    "    x=x+1"
   ]
  },
  {
   "cell_type": "code",
   "execution_count": 7,
   "id": "ce9f4d32",
   "metadata": {},
   "outputs": [
    {
     "name": "stdout",
     "output_type": "stream",
     "text": [
      "O|O|O|O|O|L|L|E|H|"
     ]
    }
   ],
   "source": [
    "a=\"HELLOOOOO\"\n",
    "c=0\n",
    "d=len(a)-1\n",
    "\n",
    "while d>=c:\n",
    "    print(a[d], end=\"|\")\n",
    "    d=d-1"
   ]
  },
  {
   "cell_type": "code",
   "execution_count": 1,
   "id": "be316a8b",
   "metadata": {},
   "outputs": [
    {
     "name": "stdout",
     "output_type": "stream",
     "text": [
      "a.l.o.t.s.a.B."
     ]
    }
   ],
   "source": [
    "a=\"Bastola\"\n",
    "v=len(a)-1\n",
    "for i in range(v,-1,-1):\n",
    "    print(a[i], end=\".\")"
   ]
  },
  {
   "cell_type": "code",
   "execution_count": null,
   "id": "39d310dd",
   "metadata": {},
   "outputs": [
    {
     "name": "stdout",
     "output_type": "stream",
     "text": [
      "Enter a number= 9\n"
     ]
    }
   ],
   "source": [
    "a=int(input(\"Enter a number= \"))\n",
    "i=2\n",
    "if a>=2:\n",
    "    while i<=a:\n",
    "        if a%i==0:\n",
    "            print(\"It is composite\")\n",
    "            \n",
    "            break\n",
    "            \n",
    "        \n",
    "    else:\n",
    "        print(\"it is prime\")\n",
    "        i=i+1\n",
    "        \n",
    "            \n",
    "else:\n",
    "    print(\"Invalid input\")"
   ]
  },
  {
   "cell_type": "code",
   "execution_count": 5,
   "id": "12681f90",
   "metadata": {},
   "outputs": [
    {
     "name": "stdout",
     "output_type": "stream",
     "text": [
      "Hello"
     ]
    }
   ],
   "source": [
    "a=\"Hello wolrd\"\n",
    "l=len(a)\n",
    "i=0\n",
    "while i<l:\n",
    "    if a[i]==\" \":\n",
    "        \n",
    "        break\n",
    "    \n",
    "    print(a[i], end=\"\")\n",
    "    i=i+1\n",
    "    "
   ]
  },
  {
   "cell_type": "code",
   "execution_count": 8,
   "id": "325ef6a6",
   "metadata": {},
   "outputs": [
    {
     "name": "stdout",
     "output_type": "stream",
     "text": [
      "Enter the quantity of items=2\n",
      "Enter name of the item= momo\n",
      "Enter the price of the item= 200\n",
      "Enter the quantity you want= 2\n",
      "Enter name of the item= chaumin\n",
      "Enter the price of the item= 150\n",
      "Enter the quantity you want= 3\n",
      "NAME PRICE QUANTITY TOTAL\n",
      "momo 200 2 400\n",
      "chaumin 150 3 450\n",
      "\n",
      "Your total expencise is 850\n"
     ]
    }
   ],
   "source": [
    "a=int(input(\"Enter the quantity of items=\"))\n",
    "\n",
    "b=\"\"\n",
    "GP=0\n",
    "X=\"NAME\"+\" \"+\"PRICE\"+\" \"+\"QUANTITY\"+\" \"+\"TOTAL\"\n",
    "for i in range(0,a):\n",
    "    x=input(\"Enter name of the item= \")\n",
    "    y=int(input(\"Enter the price of the item= \"))\n",
    "    z=int(input(\"Enter the quantity you want= \"))\n",
    "    a=y*z\n",
    "    b=b+ x+\" \"+ str(y) +\" \"+ str(z)+\" \" + str(a) +\"\\n\"\n",
    "    GP=GP+a\n",
    "print(X)\n",
    "print(b)\n",
    "print(\"Your total expencise is\",GP)\n"
   ]
  },
  {
   "cell_type": "code",
   "execution_count": 4,
   "id": "79bfc723",
   "metadata": {},
   "outputs": [
    {
     "name": "stdout",
     "output_type": "stream",
     "text": [
      "Enter a word= aass\n",
      "not\n"
     ]
    }
   ],
   "source": [
    "a=input(\"Enter a word= \")\n",
    "b=len(a)-1\n",
    "c=\"\"\n",
    "for i in range(b,-1,-1):\n",
    "    x=a[i]\n",
    "    c=c+x\n",
    "if a==c:\n",
    "    print(\"palindrome\")\n",
    "else:\n",
    "    print(\"not\")"
   ]
  },
  {
   "cell_type": "code",
   "execution_count": 3,
   "id": "1260721e",
   "metadata": {},
   "outputs": [
    {
     "name": "stdout",
     "output_type": "stream",
     "text": [
      "e b e b a B "
     ]
    }
   ],
   "source": [
    "a=\"Babebe\"\n",
    "b=len(a)-1\n",
    "v=0\n",
    "while v<=b:\n",
    "    print(a[b], end=\" \")\n",
    "    b=b-1\n",
    "    "
   ]
  },
  {
   "cell_type": "code",
   "execution_count": 1,
   "id": "317f78f3",
   "metadata": {},
   "outputs": [
    {
     "name": "stdout",
     "output_type": "stream",
     "text": [
      "()()()()()\n",
      "()()()()\n",
      "()()()\n",
      "()()\n",
      "()\n",
      "\n"
     ]
    }
   ],
   "source": [
    "a=5\n",
    "while a>=0:\n",
    "    print(\"()\"*a)\n",
    "    a=a-1"
   ]
  },
  {
   "cell_type": "code",
   "execution_count": 10,
   "id": "03787bca",
   "metadata": {},
   "outputs": [
    {
     "name": "stdout",
     "output_type": "stream",
     "text": [
      "\n",
      "B\n",
      "Ba\n",
      "Bas\n",
      "Bast\n",
      "Basto\n",
      "Bastol\n",
      "Bastola\n"
     ]
    }
   ],
   "source": [
    "a=\"Bastola\"\n",
    "for i in range(len(a)+1):\n",
    "    print(a[0:i])"
   ]
  },
  {
   "cell_type": "code",
   "execution_count": 8,
   "id": "c9df2fa4",
   "metadata": {},
   "outputs": [
    {
     "name": "stdout",
     "output_type": "stream",
     "text": [
      "Ecsl\n"
     ]
    }
   ],
   "source": [
    "a=\"EricBastola\"\n",
    "print(a[0:10:3])"
   ]
  },
  {
   "cell_type": "code",
   "execution_count": 2,
   "id": "404ffdeb",
   "metadata": {},
   "outputs": [
    {
     "name": "stdout",
     "output_type": "stream",
     "text": [
      "CIRE\n"
     ]
    }
   ],
   "source": [
    "b=\"ERIC\"\n",
    "print(b[::-1])"
   ]
  },
  {
   "cell_type": "code",
   "execution_count": 5,
   "id": "c6dcfd45",
   "metadata": {},
   "outputs": [
    {
     "name": "stdout",
     "output_type": "stream",
     "text": [
      "m\n"
     ]
    }
   ],
   "source": [
    "b=\"uareme\"\n",
    "print(b[-2])"
   ]
  },
  {
   "cell_type": "code",
   "execution_count": 8,
   "id": "e4df5561",
   "metadata": {},
   "outputs": [
    {
     "name": "stdout",
     "output_type": "stream",
     "text": [
      "asto\n"
     ]
    }
   ],
   "source": [
    "a=\"Bastola\"\n",
    "c=a[1:5]\n",
    "print(c)"
   ]
  },
  {
   "cell_type": "code",
   "execution_count": 11,
   "id": "c30a41af",
   "metadata": {},
   "outputs": [
    {
     "name": "stdout",
     "output_type": "stream",
     "text": [
      "Hello\n",
      "world\n"
     ]
    }
   ],
   "source": [
    "a=\"Hello world\"\n",
    "b=a[:5]\n",
    "c=a[6:]\n",
    "print(b)\n",
    "print(c)"
   ]
  },
  {
   "cell_type": "code",
   "execution_count": 13,
   "id": "d967e32b",
   "metadata": {},
   "outputs": [
    {
     "name": "stdout",
     "output_type": "stream",
     "text": [
      "Hello My name is ERIC. I am 16 years old\n"
     ]
    }
   ],
   "source": [
    "#string formatting\n",
    "name=\"ERIC\"\n",
    "A= 16\n",
    "g=f\"Hello My name is {name}. I am {A} years old.\"\n",
    "\n",
    "print(g)"
   ]
  },
  {
   "cell_type": "code",
   "execution_count": 8,
   "id": "d80eb24e",
   "metadata": {},
   "outputs": [
    {
     "name": "stdout",
     "output_type": "stream",
     "text": [
      "enter a number= 997\n",
      "prime\n"
     ]
    }
   ],
   "source": [
    "a=int(input(\"enter a number= \"))\n",
    "if a>=2:\n",
    "    for i in range(2,a):\n",
    "        if a%i==0:\n",
    "            print(\"composite\")\n",
    "            break\n",
    "    else:\n",
    "        print(\"prime\")\n",
    "else:\n",
    "    print(\"invalid\")"
   ]
  },
  {
   "cell_type": "code",
   "execution_count": null,
   "id": "d84f999a",
   "metadata": {},
   "outputs": [],
   "source": []
  },
  {
   "cell_type": "code",
   "execution_count": null,
   "id": "673d2b30",
   "metadata": {},
   "outputs": [],
   "source": []
  }
 ],
 "metadata": {
  "kernelspec": {
   "display_name": "Python 3 (ipykernel)",
   "language": "python",
   "name": "python3"
  },
  "language_info": {
   "codemirror_mode": {
    "name": "ipython",
    "version": 3
   },
   "file_extension": ".py",
   "mimetype": "text/x-python",
   "name": "python",
   "nbconvert_exporter": "python",
   "pygments_lexer": "ipython3",
   "version": "3.9.12"
  }
 },
 "nbformat": 4,
 "nbformat_minor": 5
}

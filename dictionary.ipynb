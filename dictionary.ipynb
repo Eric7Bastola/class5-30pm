{
 "cells": [
  {
   "cell_type": "code",
   "execution_count": null,
   "id": "6db90524",
   "metadata": {},
   "outputs": [],
   "source": [
    "#dictionary\n",
    "#indexed\n",
    "#ordered\n",
    "#duplicate\n",
    "#mutable\n"
   ]
  },
  {
   "cell_type": "code",
   "execution_count": 1,
   "id": "2430e60f",
   "metadata": {},
   "outputs": [
    {
     "name": "stdout",
     "output_type": "stream",
     "text": [
      "<class 'dict'>\n",
      "{'a': 'apple', 'b': 'ball', 'c': 'cat'}\n"
     ]
    }
   ],
   "source": [
    "# d={<key>:<value>,<key>,<value>,.....}\n",
    "d={\"a\":\"apple\",\"b\":\"ball\",\"c\":\"cat\"}\n",
    "print(type(d))\n",
    "print(d)"
   ]
  },
  {
   "cell_type": "code",
   "execution_count": 9,
   "id": "8cbeb8e1",
   "metadata": {},
   "outputs": [
    {
     "name": "stdout",
     "output_type": "stream",
     "text": [
      "apple\n"
     ]
    }
   ],
   "source": [
    "d={\"a\":\"apple\",\"b\":\"ball\",\"c\":\"cat\"}\n",
    "\n",
    "print(d['a'])"
   ]
  },
  {
   "cell_type": "code",
   "execution_count": 6,
   "id": "1affc2bf",
   "metadata": {},
   "outputs": [
    {
     "name": "stdout",
     "output_type": "stream",
     "text": [
      "ENTER A VALUE = dd\n",
      "ENTER A VALUE = ssadf\n",
      "ENTER A VALUE = sdfrwa\n",
      "{0: 'dd', 1: 'ssadf', 2: 'sdfrwa'}\n"
     ]
    }
   ],
   "source": [
    "d={}\n",
    "for i in range(3):\n",
    "    d[i]= input(\"ENTER A VALUE = \")\n",
    "    \n",
    "print(d)\n",
    "\n"
   ]
  },
  {
   "cell_type": "code",
   "execution_count": 5,
   "id": "ba8f4fed",
   "metadata": {},
   "outputs": [
    {
     "name": "stdout",
     "output_type": "stream",
     "text": [
      "Enter the number of values= 3\n",
      "ENTER NAME= eric\n",
      "Enter number= 932914941\n",
      "ENTER NAME= iman\n",
      "Enter number= 93932949543\n",
      "ENTER NAME= sushant\n",
      "Enter number= 221832824\n",
      "{'eric': 932914941, 'iman': 93932949543, 'sushant': 221832824}\n"
     ]
    }
   ],
   "source": [
    "d={}\n",
    "n= int(input(\"Enter the number of values= \"))\n",
    "for i in range(n):\n",
    "    name= input(\"ENTER NAME= \")\n",
    "    p= int(input(\"Enter number= \"))\n",
    "    d[name]=p\n",
    " \n",
    "    \n",
    "print(d)\n"
   ]
  },
  {
   "cell_type": "code",
   "execution_count": 10,
   "id": "fadb48d1",
   "metadata": {},
   "outputs": [
    {
     "name": "stdout",
     "output_type": "stream",
     "text": [
      "ram\n",
      "shyam\n",
      "Hari\n"
     ]
    }
   ],
   "source": [
    "o={\"ram\":\"9872721732\",\"shyam\":\"980332233\",\"Hari\":\"9862721173\"}\n",
    "for i in o:\n",
    "    print(i)"
   ]
  },
  {
   "cell_type": "code",
   "execution_count": 12,
   "id": "3d930faa",
   "metadata": {},
   "outputs": [
    {
     "name": "stdout",
     "output_type": "stream",
     "text": [
      "9872721732\n",
      "980332233\n",
      "9862721173\n"
     ]
    }
   ],
   "source": [
    "o={\"ram\":\"9872721732\",\"shyam\":\"980332233\",\"Hari\":\"9862721173\"}\n",
    "for i in o.values():\n",
    "    print(i)"
   ]
  },
  {
   "cell_type": "code",
   "execution_count": 13,
   "id": "ecfa9dfe",
   "metadata": {},
   "outputs": [
    {
     "name": "stdout",
     "output_type": "stream",
     "text": [
      "('ram', '9872721732')\n",
      "('shyam', '980332233')\n",
      "('Hari', '9862721173')\n"
     ]
    }
   ],
   "source": [
    "o={\"ram\":\"9872721732\",\"shyam\":\"980332233\",\"Hari\":\"9862721173\"}\n",
    "for i in o.items():\n",
    "    print(i)"
   ]
  },
  {
   "cell_type": "code",
   "execution_count": 5,
   "id": "a0ecb479",
   "metadata": {
    "scrolled": true
   },
   "outputs": [
    {
     "name": "stdout",
     "output_type": "stream",
     "text": [
      "[('ram', '9872721732'), ('shyam', '980332233'), ('Hari', '9862721173')]\n"
     ]
    }
   ],
   "source": [
    "d=[]\n",
    "o={\"ram\":\"9872721732\",\"shyam\":\"980332233\",\"Hari\":\"9862721173\"}\n",
    "for i in o.items():\n",
    "    d.append(i)\n",
    "print(d)"
   ]
  },
  {
   "cell_type": "code",
   "execution_count": 6,
   "id": "800efbad",
   "metadata": {},
   "outputs": [
    {
     "data": {
      "text/plain": [
       "{'ram': 98821736435, 'shyam': '980332233', 'Hari': '9862721173'}"
      ]
     },
     "execution_count": 6,
     "metadata": {},
     "output_type": "execute_result"
    }
   ],
   "source": [
    "o={\"ram\":\"9872721732\",\"shyam\":\"980332233\",\"Hari\":\"9862721173\"}\n",
    "o[\"ram\"]=98821736435\n",
    "o"
   ]
  },
  {
   "cell_type": "code",
   "execution_count": 8,
   "id": "8529af3c",
   "metadata": {},
   "outputs": [
    {
     "name": "stdout",
     "output_type": "stream",
     "text": [
      "{'shyam': '980332233', 'Hari': '9862721173'}\n"
     ]
    }
   ],
   "source": [
    "o={\"ram\":\"9872721732\",\"shyam\":\"980332233\",\"Hari\":\"9862721173\"}\n",
    "del o[\"ram\"]\n",
    "print(o)"
   ]
  },
  {
   "cell_type": "code",
   "execution_count": 13,
   "id": "53d1170f",
   "metadata": {},
   "outputs": [
    {
     "name": "stdout",
     "output_type": "stream",
     "text": [
      "9872721732\n",
      "{'shyam': '980332233', 'Hari': '9862721173'}\n"
     ]
    }
   ],
   "source": [
    "o={\"ram\":\"9872721732\",\"shyam\":\"980332233\",\"Hari\":\"9862721173\"}\n",
    "x=o.pop(\"ram\")\n",
    "print(x)\n",
    "print(o)"
   ]
  },
  {
   "cell_type": "code",
   "execution_count": 14,
   "id": "6121f691",
   "metadata": {},
   "outputs": [
    {
     "data": {
      "text/plain": [
       "{}"
      ]
     },
     "execution_count": 14,
     "metadata": {},
     "output_type": "execute_result"
    }
   ],
   "source": [
    "o={\"ram\":\"9872721732\",\"shyam\":\"980332233\",\"Hari\":\"9862721173\"}\n",
    "o.clear()\n",
    "o"
   ]
  },
  {
   "cell_type": "code",
   "execution_count": 16,
   "id": "80f4bbaf",
   "metadata": {},
   "outputs": [
    {
     "name": "stdout",
     "output_type": "stream",
     "text": [
      "{'ram': '9872721732', 'b': 'ball', 'c': 'cat', 'shyam': '980332233', 'Hari': '9862721173'}\n"
     ]
    }
   ],
   "source": [
    "o={\"ram\":\"9872721732\",\"shyam\":\"980332233\",\"Hari\":\"9862721173\"}\n",
    "d={\"ram\":\"apple\",\"b\":\"ball\",\"c\":\"cat\"}\n",
    "d.update(o)\n",
    "print(d)"
   ]
  },
  {
   "cell_type": "code",
   "execution_count": 22,
   "id": "24bf113f",
   "metadata": {},
   "outputs": [
    {
     "name": "stdout",
     "output_type": "stream",
     "text": [
      "('ram', ['9872721732', '98607834523'])\n",
      "('shyam', ['980332233', '9877216321712'])\n",
      "('Hari', '9862721173')\n"
     ]
    }
   ],
   "source": [
    "o={\"ram\":[\"9872721732\",\"98607834523\"],\"shyam\":[\"980332233\",\"9877216321712\"],\"Hari\":\"9862721173\"}\n",
    "for i in o.items():\n",
    "    print(i)\n",
    "    "
   ]
  },
  {
   "cell_type": "code",
   "execution_count": 31,
   "id": "b579852b",
   "metadata": {},
   "outputs": [
    {
     "name": "stdout",
     "output_type": "stream",
     "text": [
      "Enter the value of n = 2\n",
      "ENTER YOUR NAME= eric\n",
      "ENTER YOUR PHONE= 92821813\n",
      "Enter second phone=92182183\n",
      "ENTER YOUR NAME= iman\n",
      "ENTER YOUR PHONE= 99123913\n",
      "Enter second phone=831813931\n",
      "{'eric': ['92182183', '92821813'], 'iman': ['831813931', '99123913']}\n"
     ]
    }
   ],
   "source": [
    "d={}\n",
    "n= int(input(\"Enter the value of n = \"))\n",
    "for i in range(n):\n",
    "    name=input(\"ENTER YOUR NAME= \")\n",
    "    pho=input(\"ENTER YOUR PHONE= \")\n",
    "    PHO=input(\"Enter second phone=\")\n",
    "   \n",
    "    d[name]=[PHO,pho]\n",
    "print(d)"
   ]
  },
  {
   "cell_type": "code",
   "execution_count": 32,
   "id": "c3991d25",
   "metadata": {},
   "outputs": [
    {
     "data": {
      "text/plain": [
       "{'ram': ['9872721732', '98607834523', 927217741],\n",
       " 'shyam': ['980332233', '9877216321712'],\n",
       " 'Hari': '9862721173'}"
      ]
     },
     "execution_count": 32,
     "metadata": {},
     "output_type": "execute_result"
    }
   ],
   "source": [
    "o={\"ram\":[\"9872721732\",\"98607834523\"],\"shyam\":[\"980332233\",\"9877216321712\"],\"Hari\":\"9862721173\"}\n",
    "o[\"ram\"].append(927217741)\n",
    "o"
   ]
  },
  {
   "cell_type": "code",
   "execution_count": 34,
   "id": "8256f745",
   "metadata": {},
   "outputs": [
    {
     "data": {
      "text/plain": [
       "'98607834523'"
      ]
     },
     "execution_count": 34,
     "metadata": {},
     "output_type": "execute_result"
    }
   ],
   "source": [
    "o={\"ram\":[\"9872721732\",\"98607834523\"],\"shyam\":[\"980332233\",\"9877216321712\"],\"Hari\":\"9862721173\"}\n",
    "o[\"ram\"][1]\n"
   ]
  },
  {
   "cell_type": "code",
   "execution_count": 39,
   "id": "f521e25d",
   "metadata": {},
   "outputs": [
    {
     "data": {
      "text/plain": [
       "'nai paideina'"
      ]
     },
     "execution_count": 39,
     "metadata": {},
     "output_type": "execute_result"
    }
   ],
   "source": [
    "a=[{\"ki\":\"k re?\",\"kk\":\"kei na kei\"},{\"ho\":\"hoina\",\"lala\":\"nai paideina\"}]\n",
    "a[1][\"lala\"]\n",
    "\n"
   ]
  },
  {
   "cell_type": "code",
   "execution_count": 41,
   "id": "de0ac40b",
   "metadata": {},
   "outputs": [
    {
     "name": "stdout",
     "output_type": "stream",
     "text": [
      "ENTER A NUMBER= 2\n",
      "ENTER YOUR NAME= eric\n",
      "Enter your roll number= 11\n",
      "ENTER YOUR NAME= iman\n",
      "Enter your roll number= 12\n",
      "[{'name': 12}, {'name': 12}]\n"
     ]
    }
   ],
   "source": [
    "s=[]\n",
    "c={}\n",
    "o=int(input(\"ENTER A NUMBER= \"))\n",
    "for i in range(o):\n",
    "    name=input(\"ENTER YOUR NAME= \")\n",
    "    roll=int(input(\"Enter your roll number= \"))\n",
    "    c[\"name\"]=roll\n",
    "    s.append(c)\n",
    "print(s)\n",
    "\n",
    "    "
   ]
  },
  {
   "cell_type": "code",
   "execution_count": 43,
   "id": "97095e35",
   "metadata": {},
   "outputs": [
    {
     "name": "stdout",
     "output_type": "stream",
     "text": [
      "Enter the value= 2\n",
      "Enter your name= iman\n",
      "Enter ntc number= 7373623\n",
      "Enter ncell number= 73732732\n",
      "Enter your name= eric\n",
      "Enter ntc number= 9328328732\n",
      "Enter ncell number= 823823823\n",
      "[{'name': 'iman', 'ntc_number': 7373623, 'ncell_ number': 73732732}, {'name': 'eric', 'ntc_number': 9328328732, 'ncell_ number': 823823823}]\n"
     ]
    }
   ],
   "source": [
    "d=[]\n",
    "n=int(input(\"Enter the value= \"))\n",
    "for i in range(n):\n",
    "    a=input(\"Enter your name= \")\n",
    "    ntc_phone= int(input(\"Enter ntc number= \"))\n",
    "    ncell_phone= int(input(\"Enter ncell number= \"))\n",
    "    info= {'name':a, 'ntc_number':ntc_phone, 'ncell_ number':ncell_phone}\n",
    "    d.append(info)\n",
    "print(d)\n",
    "    "
   ]
  },
  {
   "cell_type": "code",
   "execution_count": 6,
   "id": "e5408b91",
   "metadata": {},
   "outputs": [
    {
     "name": "stdout",
     "output_type": "stream",
     "text": [
      "('ram', {'ntc': 98327127417143, 'ncell': 9812731723})\n",
      "('hari', {'ntc': 986261632, 'ncell': 92182173223})\n"
     ]
    }
   ],
   "source": [
    "a={\"ram\":{\"ntc\":98327127417143, \"ncell\":9812731723}, \"hari\":{\"ntc\":986261632, \"ncell\":92182173223}}\n",
    "for i in a.items():\n",
    "    print(i)\n"
   ]
  },
  {
   "cell_type": "code",
   "execution_count": 9,
   "id": "8019221c",
   "metadata": {},
   "outputs": [
    {
     "name": "stdout",
     "output_type": "stream",
     "text": [
      "Enter the value of n= 3\n",
      "Enter your name= eric\n",
      "Enter telecom number= 9823554578\n",
      "Enter ncell number = 98282181\n",
      "Enter your name= iman\n",
      "Enter telecom number= 91281279732714\n",
      "Enter ncell number = 8932897123321\n",
      "Enter your name= sushant\n",
      "Enter telecom number= 8812813\n",
      "Enter ncell number = 9187234123\n",
      "{'eric': {'telecom number': 9823554578, 'Ncell number': 98282181}, 'iman': {'telecom number': 91281279732714, 'Ncell number': 8932897123321}, 'sushant': {'telecom number': 8812813, 'Ncell number': 9187234123}}\n"
     ]
    }
   ],
   "source": [
    "d={}\n",
    "n=int(input(\"Enter the value of n= \"))\n",
    "for i in range(n):\n",
    "    s=input(\"Enter your name= \")\n",
    "    ntc=int(input(\"Enter telecom number= \"))\n",
    "    ncell=int(input(\"Enter ncell number = \"))\n",
    "    d[s]={ \"telecom number\":ntc, \"Ncell number\":ncell}\n",
    "    \n",
    "print(d)\n",
    "    "
   ]
  },
  {
   "cell_type": "code",
   "execution_count": null,
   "id": "a6b691e9",
   "metadata": {},
   "outputs": [],
   "source": []
  }
 ],
 "metadata": {
  "kernelspec": {
   "display_name": "Python 3 (ipykernel)",
   "language": "python",
   "name": "python3"
  },
  "language_info": {
   "codemirror_mode": {
    "name": "ipython",
    "version": 3
   },
   "file_extension": ".py",
   "mimetype": "text/x-python",
   "name": "python",
   "nbconvert_exporter": "python",
   "pygments_lexer": "ipython3",
   "version": "3.9.12"
  }
 },
 "nbformat": 4,
 "nbformat_minor": 5
}

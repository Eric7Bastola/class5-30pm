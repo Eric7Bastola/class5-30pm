{
 "cells": [
  {
   "cell_type": "code",
   "execution_count": null,
   "id": "73591c22",
   "metadata": {},
   "outputs": [],
   "source": [
    "#TUPLE\n",
    "#Indexed\n",
    "#Orderes\n",
    "#Multiple data\n",
    "#Imutable\n"
   ]
  },
  {
   "cell_type": "code",
   "execution_count": 14,
   "id": "a21f045d",
   "metadata": {},
   "outputs": [
    {
     "name": "stdout",
     "output_type": "stream",
     "text": [
      "<class 'tuple'>\n",
      "<class 'tuple'>\n",
      "('Apple', 'Ball', 'Cat', 'Dog', ' ', ' ', ' ', ' ')\n",
      "('Apple', 'Ball', 'Cat', 'Dog')\n"
     ]
    }
   ],
   "source": [
    "a=[\"RAM\",\"SAM\",\"HARI\",\"GITA\"])\n",
    "b=(\" \",\" \",\" \",\" \")\n",
    "c=a+b\n",
    "print(type(a))\n",
    "print(type(b))\n",
    "print(c)\n",
    "print(a)"
   ]
  },
  {
   "cell_type": "code",
   "execution_count": 4,
   "id": "0c93d228",
   "metadata": {},
   "outputs": [
    {
     "name": "stdout",
     "output_type": "stream",
     "text": [
      "645\n",
      "1\n",
      "768\n"
     ]
    }
   ],
   "source": [
    "a=(1,2,4,3,33,4,5,5,66,645)\n",
    "print(max(a))\n",
    "print(min(a))\n",
    "print(sum(a))"
   ]
  },
  {
   "cell_type": "code",
   "execution_count": 5,
   "id": "c2099975",
   "metadata": {},
   "outputs": [
    {
     "name": "stdout",
     "output_type": "stream",
     "text": [
      "[1, 2, 3, 4, 4, 5, 5, 33, 66, 645]\n"
     ]
    }
   ],
   "source": [
    "a=[1,2,4,3,33,4,5,5,66,645]\n",
    "a.sort()\n",
    "print(a)"
   ]
  },
  {
   "cell_type": "code",
   "execution_count": 8,
   "id": "d050690b",
   "metadata": {},
   "outputs": [
    {
     "name": "stdout",
     "output_type": "stream",
     "text": [
      "Dog\n",
      "Apple\n",
      "['Apple', 'Ball', 'Cat', 'Dog']\n"
     ]
    }
   ],
   "source": [
    "a=[\"Apple\",\"Ball\",\"Cat\",\"Dog\"]\n",
    "print(max(a))\n",
    "print(min(a))\n",
    "a.sort()\n",
    "print(a)"
   ]
  },
  {
   "cell_type": "code",
   "execution_count": 9,
   "id": "7ad3171d",
   "metadata": {},
   "outputs": [
    {
     "data": {
      "text/plain": [
       "['a', 'b', 'c', 'd', 'e']"
      ]
     },
     "execution_count": 9,
     "metadata": {},
     "output_type": "execute_result"
    }
   ],
   "source": [
    "a=\"a,b,c,d,e\"\n",
    "a.split(\",\")"
   ]
  },
  {
   "cell_type": "code",
   "execution_count": 17,
   "id": "79fa6e98",
   "metadata": {},
   "outputs": [
    {
     "name": "stdout",
     "output_type": "stream",
     "text": [
      "Enter the number of value you want to enter = 5\n",
      "Enter the value you want to put= iman\n",
      "Enter the value you want to put= eric\n",
      "Enter the value you want to put= sushant\n",
      "Enter the value you want to put= bharat\n",
      "Enter the value you want to put= rohit\n"
     ]
    },
    {
     "data": {
      "text/plain": [
       "['bharat', 'eric', 'iman', 'rohit', 'sushant']"
      ]
     },
     "execution_count": 17,
     "metadata": {},
     "output_type": "execute_result"
    }
   ],
   "source": [
    "a=[]\n",
    "b=int(input(\"Enter the number of value you want to enter = \"))\n",
    "\n",
    "for i in range(b):\n",
    "    x=input(\"Enter the value you want to put= \")\n",
    "    a=a+[x,]\n",
    "a.sort()\n",
    "a\n",
    "    "
   ]
  },
  {
   "cell_type": "code",
   "execution_count": 18,
   "id": "9f0ab96f",
   "metadata": {},
   "outputs": [
    {
     "name": "stdout",
     "output_type": "stream",
     "text": [
      "(1, 2, 4, 3, 33, 5, 5, 66, 645)\n"
     ]
    }
   ],
   "source": [
    "a=(1,2,4,3,33,4,5,5,66,645)\n",
    "b=list(a)\n",
    "del b[5]\n",
    "c=tuple(b)\n",
    "print(c)"
   ]
  },
  {
   "cell_type": "code",
   "execution_count": 19,
   "id": "5453c92c",
   "metadata": {},
   "outputs": [
    {
     "name": "stdout",
     "output_type": "stream",
     "text": [
      "('E', 'R', 'I', 'C', 'B', 'A', 'S', 'T', 'O', 'L', 'A')\n",
      "['E', 'R', 'I', 'C', 'B', 'A', 'S', 'T', 'O', 'L', 'A']\n"
     ]
    }
   ],
   "source": [
    "a=\"ERICBASTOLA\"\n",
    "print(tuple(a))\n",
    "print(list(a))"
   ]
  },
  {
   "cell_type": "code",
   "execution_count": 8,
   "id": "40987b0b",
   "metadata": {},
   "outputs": [
    {
     "name": "stdout",
     "output_type": "stream",
     "text": [
      "S T O L "
     ]
    }
   ],
   "source": [
    "a=\"BASTOLA\"\n",
    "for i in a:\n",
    "    if i!=\"A\" and i!=\"B\":\n",
    "        print(i,end=\" \" )\n",
    "    \n",
    "        \n",
    "   "
   ]
  },
  {
   "cell_type": "code",
   "execution_count": 12,
   "id": "01891bdc",
   "metadata": {},
   "outputs": [
    {
     "name": "stdout",
     "output_type": "stream",
     "text": [
      "enter the value of n=4\n",
      "Enter name= gkasfdlasfaf\n",
      "Enter addresss =shdflgsflf\n",
      "Enter your age= 4\n",
      "Enter name= hsladifflqdf\n",
      "Enter addresss =hlsadbqsf\n",
      "Enter your age= 3\n",
      "Enter name= hsldfl\n",
      "Enter addresss =hdshds\n",
      "Enter your age= 2\n",
      "Enter name= hsfqww\n",
      "Enter addresss =ddddgfuidf\n",
      "Enter your age= 3\n",
      "(('gkasfdlasfaf', 'shdflgsflf', 4), ('hsladifflqdf', 'hlsadbqsf', 3), ('hsldfl', 'hdshds', 2), ('hsfqww', 'ddddgfuidf', 3))\n"
     ]
    }
   ],
   "source": [
    "t=()\n",
    "n=int(input(\"enter the value of n=\"))\n",
    "for i in range(n):\n",
    "    a=input(\"Enter name= \")\n",
    "    b=input(\"Enter addresss =\")\n",
    "    c=int(input(\"Enter your age= \"))\n",
    "    I=((a,b,c),)\n",
    "    t=t+I\n",
    "print(t)"
   ]
  },
  {
   "cell_type": "raw",
   "id": "f79beee4",
   "metadata": {},
   "source": [
    "a=((\"gkasfdlasfaf', 'shdflgsflf', 4), ('hsladifflqdf', 'hlsadbqsf', 3), ('hsldfl', 'hdshds', 2), ('hsfqww', 'ddddgfuidf', 3))\n",
    "print(a)"
   ]
  },
  {
   "cell_type": "code",
   "execution_count": 18,
   "id": "ac9bd620",
   "metadata": {},
   "outputs": [
    {
     "name": "stdout",
     "output_type": "stream",
     "text": [
      "[['gkasfdlasfaf', 'shdflgsflf', 4], ['hsladifflqdf', 'hlsadbqsf', 3], ['hsldfl', 'hdshds', 2], ['hsfqww', 'ddddgfuidf', 3]]\n"
     ]
    }
   ],
   "source": [
    "a=(('gkasfdlasfaf', 'shdflgsflf', 4), ('hsladifflqdf', 'hlsadbqsf', 3), ('hsldfl', 'hdshds', 2), ('hsfqww', 'ddddgfuidf', 3))\n",
    "b=a[0]\n",
    "c=list(b)\n",
    "x=a[1]\n",
    "d=list(x)\n",
    "z=a[2]\n",
    "e=list(z)\n",
    "f=a[3]\n",
    "g=list(f)\n",
    "info=[c,d,e,g]\n",
    "print(info)"
   ]
  },
  {
   "cell_type": "code",
   "execution_count": 20,
   "id": "59030cd9",
   "metadata": {},
   "outputs": [
    {
     "name": "stdout",
     "output_type": "stream",
     "text": [
      "[['gkasfdlasfaf', 'shdflgsflf', 4], ['hsladifflqdf', 'hlsadbqsf', 3], ['hsldfl', 'hdshds', 2], ['hsfqww', 'ddddgfuidf', 3]]\n"
     ]
    }
   ],
   "source": [
    "a=(('gkasfdlasfaf', 'shdflgsflf', 4), ('hsladifflqdf', 'hlsadbqsf', 3), ('hsldfl', 'hdshds', 2), ('hsfqww', 'ddddgfuidf', 3))\n",
    "x=[]\n",
    "for i in a:\n",
    "    b=list(i)\n",
    "    x.append(b)\n",
    "print(x)\n",
    "    "
   ]
  },
  {
   "cell_type": "code",
   "execution_count": 31,
   "id": "f69f862d",
   "metadata": {},
   "outputs": [
    {
     "name": "stdout",
     "output_type": "stream",
     "text": [
      "[['gkasfdlasfaf', 'shdflgsflf', 4, 'RAM'], ['hsladifflqdf', 'hlsadbqsf', 3], ['hsldfl', 'hdshds', 2], ['hsfqww', 'ddddgfuidf', 3]]\n"
     ]
    }
   ],
   "source": [
    "x=[['gkasfdlasfaf', 'shdflgsflf', 4], ['hsladifflqdf', 'hlsadbqsf', 3], ['hsldfl', 'hdshds', 2], ['hsfqww', 'ddddgfuidf', 3]]\n",
    "for i in x:\n",
    "    i.append(\"RAM\")\n",
    "    print(x)\n",
    "    break\n",
    "    "
   ]
  },
  {
   "cell_type": "code",
   "execution_count": 2,
   "id": "71fa36b1",
   "metadata": {},
   "outputs": [
    {
     "ename": "AttributeError",
     "evalue": "'tuple' object has no attribute 'clear'",
     "output_type": "error",
     "traceback": [
      "\u001b[1;31m---------------------------------------------------------------------------\u001b[0m",
      "\u001b[1;31mAttributeError\u001b[0m                            Traceback (most recent call last)",
      "Input \u001b[1;32mIn [2]\u001b[0m, in \u001b[0;36m<cell line: 2>\u001b[1;34m()\u001b[0m\n\u001b[0;32m      1\u001b[0m a\u001b[38;5;241m=\u001b[39m(\u001b[38;5;124m\"\u001b[39m\u001b[38;5;124mRAM\u001b[39m\u001b[38;5;124m\"\u001b[39m,\u001b[38;5;124m\"\u001b[39m\u001b[38;5;124mSAM\u001b[39m\u001b[38;5;124m\"\u001b[39m,\u001b[38;5;124m\"\u001b[39m\u001b[38;5;124mHARI\u001b[39m\u001b[38;5;124m\"\u001b[39m,\u001b[38;5;124m\"\u001b[39m\u001b[38;5;124mGITA\u001b[39m\u001b[38;5;124m\"\u001b[39m)\n\u001b[1;32m----> 2\u001b[0m \u001b[43ma\u001b[49m\u001b[38;5;241;43m.\u001b[39;49m\u001b[43mclear\u001b[49m()\n\u001b[0;32m      3\u001b[0m \u001b[38;5;28mprint\u001b[39m(a)\n",
      "\u001b[1;31mAttributeError\u001b[0m: 'tuple' object has no attribute 'clear'"
     ]
    }
   ],
   "source": []
  },
  {
   "cell_type": "code",
   "execution_count": 2,
   "id": "379e861a",
   "metadata": {},
   "outputs": [
    {
     "data": {
      "text/plain": [
       "45"
      ]
     },
     "execution_count": 2,
     "metadata": {},
     "output_type": "execute_result"
    }
   ],
   "source": [
    "a=(1,2,3,45,65)\n",
    "a[3]"
   ]
  },
  {
   "cell_type": "code",
   "execution_count": 3,
   "id": "b753b344",
   "metadata": {},
   "outputs": [
    {
     "name": "stdout",
     "output_type": "stream",
     "text": [
      "Name is eric\n",
      "surname is bastola\n"
     ]
    }
   ],
   "source": [
    "d=(\"eric\",\"bastola\")\n",
    "name,surname=d\n",
    "print(\"Name is\", name)\n",
    "print(\"surname is\", surname)"
   ]
  },
  {
   "cell_type": "code",
   "execution_count": 4,
   "id": "22056992",
   "metadata": {},
   "outputs": [
    {
     "ename": "ValueError",
     "evalue": "empty separator",
     "output_type": "error",
     "traceback": [
      "\u001b[1;31m---------------------------------------------------------------------------\u001b[0m",
      "\u001b[1;31mValueError\u001b[0m                                Traceback (most recent call last)",
      "Input \u001b[1;32mIn [4]\u001b[0m, in \u001b[0;36m<cell line: 2>\u001b[1;34m()\u001b[0m\n\u001b[0;32m      1\u001b[0m a\u001b[38;5;241m=\u001b[39m\u001b[38;5;124m\"\u001b[39m\u001b[38;5;124myehrhr\u001b[39m\u001b[38;5;124m\"\u001b[39m\n\u001b[1;32m----> 2\u001b[0m \u001b[43ma\u001b[49m\u001b[38;5;241;43m.\u001b[39;49m\u001b[43msplit\u001b[49m\u001b[43m(\u001b[49m\u001b[38;5;124;43m\"\u001b[39;49m\u001b[38;5;124;43m\"\u001b[39;49m\u001b[43m)\u001b[49m\n",
      "\u001b[1;31mValueError\u001b[0m: empty separator"
     ]
    }
   ],
   "source": [
    "a=\"yehrhr\"\n",
    "a.split(\"\")\n"
   ]
  },
  {
   "cell_type": "code",
   "execution_count": null,
   "id": "4f045940",
   "metadata": {},
   "outputs": [],
   "source": []
  }
 ],
 "metadata": {
  "kernelspec": {
   "display_name": "Python 3 (ipykernel)",
   "language": "python",
   "name": "python3"
  },
  "language_info": {
   "codemirror_mode": {
    "name": "ipython",
    "version": 3
   },
   "file_extension": ".py",
   "mimetype": "text/x-python",
   "name": "python",
   "nbconvert_exporter": "python",
   "pygments_lexer": "ipython3",
   "version": "3.9.12"
  }
 },
 "nbformat": 4,
 "nbformat_minor": 5
}

{
 "cells": [
  {
   "cell_type": "code",
   "execution_count": 5,
   "id": "55079d21",
   "metadata": {},
   "outputs": [],
   "source": [
    "try:\n",
    "    file = open('pandas.csv','w')\n",
    "\n",
    "    file.close()\n",
    "except:\n",
    "    print(\"The file is already there.!!\")\n"
   ]
  },
  {
   "cell_type": "code",
   "execution_count": 39,
   "id": "6d1c137e",
   "metadata": {},
   "outputs": [
    {
     "data": {
      "text/html": [
       "<div>\n",
       "<style scoped>\n",
       "    .dataframe tbody tr th:only-of-type {\n",
       "        vertical-align: middle;\n",
       "    }\n",
       "\n",
       "    .dataframe tbody tr th {\n",
       "        vertical-align: top;\n",
       "    }\n",
       "\n",
       "    .dataframe thead th {\n",
       "        text-align: right;\n",
       "    }\n",
       "</style>\n",
       "<table border=\"1\" class=\"dataframe\">\n",
       "  <thead>\n",
       "    <tr style=\"text-align: right;\">\n",
       "      <th></th>\n",
       "      <th>SN</th>\n",
       "      <th>NAME</th>\n",
       "      <th>AGE</th>\n",
       "      <th>ADDRESS</th>\n",
       "      <th>PHONE NUMBER</th>\n",
       "    </tr>\n",
       "  </thead>\n",
       "  <tbody>\n",
       "    <tr>\n",
       "      <th>0</th>\n",
       "      <td>1</td>\n",
       "      <td>ERIC</td>\n",
       "      <td>13</td>\n",
       "      <td>SANTINAGAR</td>\n",
       "      <td>9823554578</td>\n",
       "    </tr>\n",
       "    <tr>\n",
       "      <th>1</th>\n",
       "      <td>2</td>\n",
       "      <td>IMAN</td>\n",
       "      <td>14</td>\n",
       "      <td>KOTESWOR</td>\n",
       "      <td>98765435878</td>\n",
       "    </tr>\n",
       "    <tr>\n",
       "      <th>2</th>\n",
       "      <td>3</td>\n",
       "      <td>SUSHANT</td>\n",
       "      <td>15</td>\n",
       "      <td>BALKUMARI</td>\n",
       "      <td>9887654522</td>\n",
       "    </tr>\n",
       "    <tr>\n",
       "      <th>3</th>\n",
       "      <td>4</td>\n",
       "      <td>SAMARPAN</td>\n",
       "      <td>16</td>\n",
       "      <td>BANESHWOR</td>\n",
       "      <td>9881736333</td>\n",
       "    </tr>\n",
       "    <tr>\n",
       "      <th>4</th>\n",
       "      <td>5</td>\n",
       "      <td>BHARAT</td>\n",
       "      <td>14</td>\n",
       "      <td>BARDIYA</td>\n",
       "      <td>987652622</td>\n",
       "    </tr>\n",
       "    <tr>\n",
       "      <th>5</th>\n",
       "      <td>6</td>\n",
       "      <td>ARPAN</td>\n",
       "      <td>13</td>\n",
       "      <td>PEPSICOLA</td>\n",
       "      <td>9887162622</td>\n",
       "    </tr>\n",
       "    <tr>\n",
       "      <th>6</th>\n",
       "      <td>7</td>\n",
       "      <td>RIGHBED</td>\n",
       "      <td>15</td>\n",
       "      <td>BUDDHANAGAR</td>\n",
       "      <td>9817227374</td>\n",
       "    </tr>\n",
       "  </tbody>\n",
       "</table>\n",
       "</div>"
      ],
      "text/plain": [
       "   SN      NAME  AGE      ADDRESS  PHONE NUMBER\n",
       "0   1      ERIC   13   SANTINAGAR    9823554578\n",
       "1   2      IMAN   14     KOTESWOR   98765435878\n",
       "2   3   SUSHANT   15    BALKUMARI    9887654522\n",
       "3   4  SAMARPAN   16    BANESHWOR    9881736333\n",
       "4   5    BHARAT   14      BARDIYA     987652622\n",
       "5   6     ARPAN   13    PEPSICOLA    9887162622\n",
       "6   7   RIGHBED   15  BUDDHANAGAR    9817227374"
      ]
     },
     "execution_count": 39,
     "metadata": {},
     "output_type": "execute_result"
    }
   ],
   "source": [
    "\n",
    "import pandas as pd\n",
    "\n",
    "f= pd.read_csv('pandas.csv')\n",
    "f"
   ]
  },
  {
   "cell_type": "code",
   "execution_count": 41,
   "id": "ce46edc4",
   "metadata": {},
   "outputs": [
    {
     "data": {
      "text/html": [
       "<div>\n",
       "<style scoped>\n",
       "    .dataframe tbody tr th:only-of-type {\n",
       "        vertical-align: middle;\n",
       "    }\n",
       "\n",
       "    .dataframe tbody tr th {\n",
       "        vertical-align: top;\n",
       "    }\n",
       "\n",
       "    .dataframe thead th {\n",
       "        text-align: right;\n",
       "    }\n",
       "</style>\n",
       "<table border=\"1\" class=\"dataframe\">\n",
       "  <thead>\n",
       "    <tr style=\"text-align: right;\">\n",
       "      <th></th>\n",
       "      <th>SN</th>\n",
       "      <th>NAME</th>\n",
       "      <th>AGE</th>\n",
       "      <th>ADDRESS</th>\n",
       "      <th>PHONE NUMBER</th>\n",
       "    </tr>\n",
       "  </thead>\n",
       "  <tbody>\n",
       "    <tr>\n",
       "      <th>1</th>\n",
       "      <td>2</td>\n",
       "      <td>IMAN</td>\n",
       "      <td>14</td>\n",
       "      <td>KOTESWOR</td>\n",
       "      <td>98765435878</td>\n",
       "    </tr>\n",
       "    <tr>\n",
       "      <th>2</th>\n",
       "      <td>3</td>\n",
       "      <td>SUSHANT</td>\n",
       "      <td>15</td>\n",
       "      <td>BALKUMARI</td>\n",
       "      <td>9887654522</td>\n",
       "    </tr>\n",
       "  </tbody>\n",
       "</table>\n",
       "</div>"
      ],
      "text/plain": [
       "   SN     NAME  AGE    ADDRESS  PHONE NUMBER\n",
       "1   2     IMAN   14   KOTESWOR   98765435878\n",
       "2   3  SUSHANT   15  BALKUMARI    9887654522"
      ]
     },
     "execution_count": 41,
     "metadata": {},
     "output_type": "execute_result"
    }
   ],
   "source": [
    "f.iloc[1:3,0:5]"
   ]
  },
  {
   "cell_type": "code",
   "execution_count": 21,
   "id": "23dd6996",
   "metadata": {},
   "outputs": [
    {
     "name": "stdout",
     "output_type": "stream",
     "text": [
      "SN,NAME,AGE,ADDRESS,PHONE NUMBER\n",
      "1,ERIC,13,SANTINAGAR,9823554578\n",
      "2,IMAN,14,KOTESWOR,98765435878\n",
      "3,SUSHANT,15,BALKUMARI,9887654522\n",
      "4,SAMARPAN,16,BANESHWOR,9881736333\n",
      "5,BHARAT,14,BARDIYA,987652622\n",
      "6,ARPAN,13,PEPSICOLA,9887162622\n",
      "7,RIGHBED,15,BUDDHANAGAR,9817227374\n",
      "24\n"
     ]
    }
   ],
   "source": [
    "import csv\n",
    "file=open('pandas.csv','r')\n",
    "p= file.read()\n",
    "f=\"A\"\n",
    "if f in p:\n",
    "    print(p)\n",
    "    x=p.count(f)\n",
    "    print(x)\n",
    "else:\n",
    "    print(\"no\")\n",
    "    \n",
    "\n"
   ]
  },
  {
   "cell_type": "code",
   "execution_count": 4,
   "id": "8ddec3a3",
   "metadata": {},
   "outputs": [
    {
     "ename": "AttributeError",
     "evalue": "'str' object has no attribute 'iloc'",
     "output_type": "error",
     "traceback": [
      "\u001b[1;31m---------------------------------------------------------------------------\u001b[0m",
      "\u001b[1;31mAttributeError\u001b[0m                            Traceback (most recent call last)",
      "Input \u001b[1;32mIn [4]\u001b[0m, in \u001b[0;36m<cell line: 1>\u001b[1;34m()\u001b[0m\n\u001b[1;32m----> 1\u001b[0m \u001b[43mp\u001b[49m\u001b[38;5;241;43m.\u001b[39;49m\u001b[43miloc\u001b[49m[\u001b[38;5;241m3\u001b[39m:\u001b[38;5;241m5\u001b[39m,\u001b[38;5;241m1\u001b[39m:\u001b[38;5;241m5\u001b[39m]\n",
      "\u001b[1;31mAttributeError\u001b[0m: 'str' object has no attribute 'iloc'"
     ]
    }
   ],
   "source": [
    "p.iloc[3:5,1:5]"
   ]
  },
  {
   "cell_type": "code",
   "execution_count": 24,
   "id": "1c37804c",
   "metadata": {},
   "outputs": [
    {
     "data": {
      "text/html": [
       "<div>\n",
       "<style scoped>\n",
       "    .dataframe tbody tr th:only-of-type {\n",
       "        vertical-align: middle;\n",
       "    }\n",
       "\n",
       "    .dataframe tbody tr th {\n",
       "        vertical-align: top;\n",
       "    }\n",
       "\n",
       "    .dataframe thead th {\n",
       "        text-align: right;\n",
       "    }\n",
       "</style>\n",
       "<table border=\"1\" class=\"dataframe\">\n",
       "  <thead>\n",
       "    <tr style=\"text-align: right;\">\n",
       "      <th></th>\n",
       "      <th>SN</th>\n",
       "      <th>NAME</th>\n",
       "      <th>AGE</th>\n",
       "      <th>ADDRESS</th>\n",
       "      <th>PHONE NUMBER</th>\n",
       "    </tr>\n",
       "  </thead>\n",
       "  <tbody>\n",
       "    <tr>\n",
       "      <th>3</th>\n",
       "      <td>4</td>\n",
       "      <td>SAMARPAN</td>\n",
       "      <td>16</td>\n",
       "      <td>BANESHWOR</td>\n",
       "      <td>9881736333</td>\n",
       "    </tr>\n",
       "    <tr>\n",
       "      <th>4</th>\n",
       "      <td>5</td>\n",
       "      <td>BHARAT</td>\n",
       "      <td>14</td>\n",
       "      <td>BARDIYA</td>\n",
       "      <td>987652622</td>\n",
       "    </tr>\n",
       "    <tr>\n",
       "      <th>5</th>\n",
       "      <td>6</td>\n",
       "      <td>ARPAN</td>\n",
       "      <td>13</td>\n",
       "      <td>PEPSICOLA</td>\n",
       "      <td>9887162622</td>\n",
       "    </tr>\n",
       "    <tr>\n",
       "      <th>6</th>\n",
       "      <td>7</td>\n",
       "      <td>RIGHBED</td>\n",
       "      <td>15</td>\n",
       "      <td>BUDDHANAGAR</td>\n",
       "      <td>9817227374</td>\n",
       "    </tr>\n",
       "  </tbody>\n",
       "</table>\n",
       "</div>"
      ],
      "text/plain": [
       "   SN      NAME  AGE      ADDRESS  PHONE NUMBER\n",
       "3   4  SAMARPAN   16    BANESHWOR    9881736333\n",
       "4   5    BHARAT   14      BARDIYA     987652622\n",
       "5   6     ARPAN   13    PEPSICOLA    9887162622\n",
       "6   7   RIGHBED   15  BUDDHANAGAR    9817227374"
      ]
     },
     "execution_count": 24,
     "metadata": {},
     "output_type": "execute_result"
    }
   ],
   "source": [
    "df.tail(4)"
   ]
  },
  {
   "cell_type": "code",
   "execution_count": 25,
   "id": "889f715f",
   "metadata": {},
   "outputs": [
    {
     "data": {
      "text/html": [
       "<div>\n",
       "<style scoped>\n",
       "    .dataframe tbody tr th:only-of-type {\n",
       "        vertical-align: middle;\n",
       "    }\n",
       "\n",
       "    .dataframe tbody tr th {\n",
       "        vertical-align: top;\n",
       "    }\n",
       "\n",
       "    .dataframe thead th {\n",
       "        text-align: right;\n",
       "    }\n",
       "</style>\n",
       "<table border=\"1\" class=\"dataframe\">\n",
       "  <thead>\n",
       "    <tr style=\"text-align: right;\">\n",
       "      <th></th>\n",
       "      <th>SN</th>\n",
       "      <th>NAME</th>\n",
       "      <th>AGE</th>\n",
       "      <th>ADDRESS</th>\n",
       "      <th>PHONE NUMBER</th>\n",
       "    </tr>\n",
       "  </thead>\n",
       "  <tbody>\n",
       "    <tr>\n",
       "      <th>0</th>\n",
       "      <td>1</td>\n",
       "      <td>ERIC</td>\n",
       "      <td>13</td>\n",
       "      <td>SANTINAGAR</td>\n",
       "      <td>9823554578</td>\n",
       "    </tr>\n",
       "    <tr>\n",
       "      <th>1</th>\n",
       "      <td>2</td>\n",
       "      <td>IMAN</td>\n",
       "      <td>14</td>\n",
       "      <td>KOTESWOR</td>\n",
       "      <td>98765435878</td>\n",
       "    </tr>\n",
       "  </tbody>\n",
       "</table>\n",
       "</div>"
      ],
      "text/plain": [
       "   SN  NAME  AGE     ADDRESS  PHONE NUMBER\n",
       "0   1  ERIC   13  SANTINAGAR    9823554578\n",
       "1   2  IMAN   14    KOTESWOR   98765435878"
      ]
     },
     "execution_count": 25,
     "metadata": {},
     "output_type": "execute_result"
    }
   ],
   "source": [
    "df.head(2)"
   ]
  },
  {
   "cell_type": "code",
   "execution_count": 29,
   "id": "aed68cdd",
   "metadata": {},
   "outputs": [
    {
     "data": {
      "text/html": [
       "<div>\n",
       "<style scoped>\n",
       "    .dataframe tbody tr th:only-of-type {\n",
       "        vertical-align: middle;\n",
       "    }\n",
       "\n",
       "    .dataframe tbody tr th {\n",
       "        vertical-align: top;\n",
       "    }\n",
       "\n",
       "    .dataframe thead th {\n",
       "        text-align: right;\n",
       "    }\n",
       "</style>\n",
       "<table border=\"1\" class=\"dataframe\">\n",
       "  <thead>\n",
       "    <tr style=\"text-align: right;\">\n",
       "      <th></th>\n",
       "      <th>NAME</th>\n",
       "      <th>PHONE NUMBER</th>\n",
       "    </tr>\n",
       "    <tr>\n",
       "      <th>SN</th>\n",
       "      <th></th>\n",
       "      <th></th>\n",
       "    </tr>\n",
       "  </thead>\n",
       "  <tbody>\n",
       "    <tr>\n",
       "      <th>1</th>\n",
       "      <td>ERIC</td>\n",
       "      <td>9823554578</td>\n",
       "    </tr>\n",
       "    <tr>\n",
       "      <th>2</th>\n",
       "      <td>IMAN</td>\n",
       "      <td>98765435878</td>\n",
       "    </tr>\n",
       "    <tr>\n",
       "      <th>3</th>\n",
       "      <td>SUSHANT</td>\n",
       "      <td>9887654522</td>\n",
       "    </tr>\n",
       "    <tr>\n",
       "      <th>4</th>\n",
       "      <td>SAMARPAN</td>\n",
       "      <td>9881736333</td>\n",
       "    </tr>\n",
       "    <tr>\n",
       "      <th>5</th>\n",
       "      <td>BHARAT</td>\n",
       "      <td>987652622</td>\n",
       "    </tr>\n",
       "    <tr>\n",
       "      <th>6</th>\n",
       "      <td>ARPAN</td>\n",
       "      <td>9887162622</td>\n",
       "    </tr>\n",
       "    <tr>\n",
       "      <th>7</th>\n",
       "      <td>RIGHBED</td>\n",
       "      <td>9817227374</td>\n",
       "    </tr>\n",
       "  </tbody>\n",
       "</table>\n",
       "</div>"
      ],
      "text/plain": [
       "        NAME  PHONE NUMBER\n",
       "SN                        \n",
       "1       ERIC    9823554578\n",
       "2       IMAN   98765435878\n",
       "3    SUSHANT    9887654522\n",
       "4   SAMARPAN    9881736333\n",
       "5     BHARAT     987652622\n",
       "6      ARPAN    9887162622\n",
       "7    RIGHBED    9817227374"
      ]
     },
     "execution_count": 29,
     "metadata": {},
     "output_type": "execute_result"
    }
   ],
   "source": [
    "import pandas as pd\n",
    "x=pd.read_csv('pandas.csv',index_col='SN',usecols=['SN','NAME','PHONE NUMBER'])\n",
    "x"
   ]
  },
  {
   "cell_type": "code",
   "execution_count": 32,
   "id": "a7eebf32",
   "metadata": {},
   "outputs": [
    {
     "data": {
      "text/html": [
       "<div>\n",
       "<style scoped>\n",
       "    .dataframe tbody tr th:only-of-type {\n",
       "        vertical-align: middle;\n",
       "    }\n",
       "\n",
       "    .dataframe tbody tr th {\n",
       "        vertical-align: top;\n",
       "    }\n",
       "\n",
       "    .dataframe thead th {\n",
       "        text-align: right;\n",
       "    }\n",
       "</style>\n",
       "<table border=\"1\" class=\"dataframe\">\n",
       "  <thead>\n",
       "    <tr style=\"text-align: right;\">\n",
       "      <th></th>\n",
       "      <th>NAME</th>\n",
       "      <th>PHONE NUMBER</th>\n",
       "    </tr>\n",
       "    <tr>\n",
       "      <th>SN</th>\n",
       "      <th></th>\n",
       "      <th></th>\n",
       "    </tr>\n",
       "  </thead>\n",
       "  <tbody>\n",
       "    <tr>\n",
       "      <th>5</th>\n",
       "      <td>BHARAT</td>\n",
       "      <td>987652622</td>\n",
       "    </tr>\n",
       "    <tr>\n",
       "      <th>6</th>\n",
       "      <td>ARPAN</td>\n",
       "      <td>9887162622</td>\n",
       "    </tr>\n",
       "  </tbody>\n",
       "</table>\n",
       "</div>"
      ],
      "text/plain": [
       "      NAME  PHONE NUMBER\n",
       "SN                      \n",
       "5   BHARAT     987652622\n",
       "6    ARPAN    9887162622"
      ]
     },
     "execution_count": 32,
     "metadata": {},
     "output_type": "execute_result"
    }
   ],
   "source": [
    "d=x.head(6)\n",
    "y=d.tail(2)\n",
    "y"
   ]
  },
  {
   "cell_type": "code",
   "execution_count": 35,
   "id": "6ef1663b",
   "metadata": {},
   "outputs": [
    {
     "ename": "AttributeError",
     "evalue": "'str' object has no attribute 'iloc'",
     "output_type": "error",
     "traceback": [
      "\u001b[1;31m---------------------------------------------------------------------------\u001b[0m",
      "\u001b[1;31mAttributeError\u001b[0m                            Traceback (most recent call last)",
      "Input \u001b[1;32mIn [35]\u001b[0m, in \u001b[0;36m<cell line: 1>\u001b[1;34m()\u001b[0m\n\u001b[1;32m----> 1\u001b[0m \u001b[43mf\u001b[49m\u001b[38;5;241;43m.\u001b[39;49m\u001b[43miloc\u001b[49m[\u001b[38;5;241m3\u001b[39m:\u001b[38;5;241m5\u001b[39m,\u001b[38;5;241m0\u001b[39m:\u001b[38;5;241m4\u001b[39m]\n",
      "\u001b[1;31mAttributeError\u001b[0m: 'str' object has no attribute 'iloc'"
     ]
    }
   ],
   "source": []
  },
  {
   "cell_type": "code",
   "execution_count": 57,
   "id": "c858d160",
   "metadata": {},
   "outputs": [
    {
     "data": {
      "text/html": [
       "<div>\n",
       "<style scoped>\n",
       "    .dataframe tbody tr th:only-of-type {\n",
       "        vertical-align: middle;\n",
       "    }\n",
       "\n",
       "    .dataframe tbody tr th {\n",
       "        vertical-align: top;\n",
       "    }\n",
       "\n",
       "    .dataframe thead th {\n",
       "        text-align: right;\n",
       "    }\n",
       "</style>\n",
       "<table border=\"1\" class=\"dataframe\">\n",
       "  <thead>\n",
       "    <tr style=\"text-align: right;\">\n",
       "      <th></th>\n",
       "      <th>SN</th>\n",
       "      <th>NAME</th>\n",
       "      <th>AGE</th>\n",
       "      <th>ADDRESS</th>\n",
       "      <th>PHONE NUMBER</th>\n",
       "    </tr>\n",
       "  </thead>\n",
       "  <tbody>\n",
       "    <tr>\n",
       "      <th>0</th>\n",
       "      <td>1</td>\n",
       "      <td>ERIC</td>\n",
       "      <td>13</td>\n",
       "      <td>SANTINAGAR</td>\n",
       "      <td>9823554578</td>\n",
       "    </tr>\n",
       "  </tbody>\n",
       "</table>\n",
       "</div>"
      ],
      "text/plain": [
       "   SN  NAME  AGE     ADDRESS  PHONE NUMBER\n",
       "0   1  ERIC   13  SANTINAGAR    9823554578"
      ]
     },
     "execution_count": 57,
     "metadata": {},
     "output_type": "execute_result"
    }
   ],
   "source": [
    "import pandas as pd\n",
    "\n",
    "f= pd.read_csv('pandas.csv')\n",
    "f[f['ADDRESS']=='SANTINAGAR']"
   ]
  },
  {
   "cell_type": "code",
   "execution_count": 87,
   "id": "35b735b4",
   "metadata": {},
   "outputs": [
    {
     "data": {
      "text/html": [
       "<div>\n",
       "<style scoped>\n",
       "    .dataframe tbody tr th:only-of-type {\n",
       "        vertical-align: middle;\n",
       "    }\n",
       "\n",
       "    .dataframe tbody tr th {\n",
       "        vertical-align: top;\n",
       "    }\n",
       "\n",
       "    .dataframe thead th {\n",
       "        text-align: right;\n",
       "    }\n",
       "</style>\n",
       "<table border=\"1\" class=\"dataframe\">\n",
       "  <thead>\n",
       "    <tr style=\"text-align: right;\">\n",
       "      <th></th>\n",
       "      <th>NAME</th>\n",
       "      <th>AGE</th>\n",
       "    </tr>\n",
       "    <tr>\n",
       "      <th>SN</th>\n",
       "      <th></th>\n",
       "      <th></th>\n",
       "    </tr>\n",
       "  </thead>\n",
       "  <tbody>\n",
       "    <tr>\n",
       "      <th>1</th>\n",
       "      <td>ERIC</td>\n",
       "      <td>13</td>\n",
       "    </tr>\n",
       "    <tr>\n",
       "      <th>2</th>\n",
       "      <td>IMAN</td>\n",
       "      <td>14</td>\n",
       "    </tr>\n",
       "    <tr>\n",
       "      <th>3</th>\n",
       "      <td>SUSHANT</td>\n",
       "      <td>15</td>\n",
       "    </tr>\n",
       "    <tr>\n",
       "      <th>4</th>\n",
       "      <td>SAMARPAN</td>\n",
       "      <td>16</td>\n",
       "    </tr>\n",
       "    <tr>\n",
       "      <th>5</th>\n",
       "      <td>BHARAT</td>\n",
       "      <td>14</td>\n",
       "    </tr>\n",
       "  </tbody>\n",
       "</table>\n",
       "</div>"
      ],
      "text/plain": [
       "        NAME  AGE\n",
       "SN               \n",
       "1       ERIC   13\n",
       "2       IMAN   14\n",
       "3    SUSHANT   15\n",
       "4   SAMARPAN   16\n",
       "5     BHARAT   14"
      ]
     },
     "execution_count": 87,
     "metadata": {},
     "output_type": "execute_result"
    }
   ],
   "source": [
    "import pandas as pd\n",
    "x=pd.read_csv('pandas.csv',usecols=['SN','AGE','NAME','PHONE NUMBER'],index_col='SN')\n",
    "x.iloc[0:5,0:2]"
   ]
  },
  {
   "cell_type": "code",
   "execution_count": 33,
   "id": "0716651e",
   "metadata": {},
   "outputs": [
    {
     "data": {
      "text/html": [
       "<div>\n",
       "<style scoped>\n",
       "    .dataframe tbody tr th:only-of-type {\n",
       "        vertical-align: middle;\n",
       "    }\n",
       "\n",
       "    .dataframe tbody tr th {\n",
       "        vertical-align: top;\n",
       "    }\n",
       "\n",
       "    .dataframe thead th {\n",
       "        text-align: right;\n",
       "    }\n",
       "</style>\n",
       "<table border=\"1\" class=\"dataframe\">\n",
       "  <thead>\n",
       "    <tr style=\"text-align: right;\">\n",
       "      <th></th>\n",
       "      <th>SN</th>\n",
       "      <th>AGE</th>\n",
       "      <th>ADDRESS</th>\n",
       "      <th>PHONE NUMBER</th>\n",
       "    </tr>\n",
       "    <tr>\n",
       "      <th>NAME</th>\n",
       "      <th></th>\n",
       "      <th></th>\n",
       "      <th></th>\n",
       "      <th></th>\n",
       "    </tr>\n",
       "  </thead>\n",
       "  <tbody>\n",
       "    <tr>\n",
       "      <th>ERIC</th>\n",
       "      <td>1</td>\n",
       "      <td>13</td>\n",
       "      <td>SANTINAGAR</td>\n",
       "      <td>9823554578</td>\n",
       "    </tr>\n",
       "    <tr>\n",
       "      <th>IMAN</th>\n",
       "      <td>2</td>\n",
       "      <td>14</td>\n",
       "      <td>KOTESWOR</td>\n",
       "      <td>98765435878</td>\n",
       "    </tr>\n",
       "    <tr>\n",
       "      <th>SUSHANT</th>\n",
       "      <td>3</td>\n",
       "      <td>15</td>\n",
       "      <td>BALKUMARI</td>\n",
       "      <td>9887654522</td>\n",
       "    </tr>\n",
       "  </tbody>\n",
       "</table>\n",
       "</div>"
      ],
      "text/plain": [
       "         SN  AGE     ADDRESS  PHONE NUMBER\n",
       "NAME                                      \n",
       "ERIC      1   13  SANTINAGAR    9823554578\n",
       "IMAN      2   14    KOTESWOR   98765435878\n",
       "SUSHANT   3   15   BALKUMARI    9887654522"
      ]
     },
     "execution_count": 33,
     "metadata": {},
     "output_type": "execute_result"
    }
   ],
   "source": [
    "import pandas as pd\n",
    "x=pd.read_csv('pandas.csv',index_col='NAME')\n",
    "x.loc['ERIC':'SUSHANT']"
   ]
  },
  {
   "cell_type": "code",
   "execution_count": 71,
   "id": "a3b4f833",
   "metadata": {},
   "outputs": [
    {
     "data": {
      "text/html": [
       "<div>\n",
       "<style scoped>\n",
       "    .dataframe tbody tr th:only-of-type {\n",
       "        vertical-align: middle;\n",
       "    }\n",
       "\n",
       "    .dataframe tbody tr th {\n",
       "        vertical-align: top;\n",
       "    }\n",
       "\n",
       "    .dataframe thead th {\n",
       "        text-align: right;\n",
       "    }\n",
       "</style>\n",
       "<table border=\"1\" class=\"dataframe\">\n",
       "  <thead>\n",
       "    <tr style=\"text-align: right;\">\n",
       "      <th></th>\n",
       "      <th>NAME</th>\n",
       "      <th>AGE</th>\n",
       "      <th>ADDRESS</th>\n",
       "      <th>PHONE NUMBER</th>\n",
       "    </tr>\n",
       "    <tr>\n",
       "      <th>SN</th>\n",
       "      <th></th>\n",
       "      <th></th>\n",
       "      <th></th>\n",
       "      <th></th>\n",
       "    </tr>\n",
       "  </thead>\n",
       "  <tbody>\n",
       "    <tr>\n",
       "      <th>1</th>\n",
       "      <td>ERIC</td>\n",
       "      <td>13</td>\n",
       "      <td>SANTINAGAR</td>\n",
       "      <td>9823554578</td>\n",
       "    </tr>\n",
       "  </tbody>\n",
       "</table>\n",
       "</div>"
      ],
      "text/plain": [
       "    NAME  AGE     ADDRESS  PHONE NUMBER\n",
       "SN                                     \n",
       "1   ERIC   13  SANTINAGAR    9823554578"
      ]
     },
     "execution_count": 71,
     "metadata": {},
     "output_type": "execute_result"
    }
   ],
   "source": [
    "import pandas as pd\n",
    "d=pd.read_csv('pandas.csv',index_col='SN')\n",
    "d[(d['AGE']==13) & (d['NAME']==\"ERIC\") ]"
   ]
  },
  {
   "cell_type": "code",
   "execution_count": 72,
   "id": "aedad7e4",
   "metadata": {},
   "outputs": [
    {
     "data": {
      "text/plain": [
       "SN\n",
       "1    False\n",
       "2    False\n",
       "3    False\n",
       "4    False\n",
       "5    False\n",
       "6     True\n",
       "7    False\n",
       "Name: NAME, dtype: bool"
      ]
     },
     "execution_count": 72,
     "metadata": {},
     "output_type": "execute_result"
    }
   ],
   "source": [
    "import pandas as pd\n",
    "d=pd.read_csv('pandas.csv',index_col='SN')\n",
    "d['NAME']==\"ARPAN\""
   ]
  },
  {
   "cell_type": "code",
   "execution_count": 5,
   "id": "3cd7772b",
   "metadata": {},
   "outputs": [
    {
     "ename": "NameError",
     "evalue": "name 'index_col' is not defined",
     "output_type": "error",
     "traceback": [
      "\u001b[1;31m---------------------------------------------------------------------------\u001b[0m",
      "\u001b[1;31mNameError\u001b[0m                                 Traceback (most recent call last)",
      "Input \u001b[1;32mIn [5]\u001b[0m, in \u001b[0;36m<cell line: 2>\u001b[1;34m()\u001b[0m\n\u001b[0;32m      1\u001b[0m \u001b[38;5;28;01mimport\u001b[39;00m \u001b[38;5;21;01mpandas\u001b[39;00m \u001b[38;5;28;01mas\u001b[39;00m \u001b[38;5;21;01mx\u001b[39;00m\n\u001b[1;32m----> 2\u001b[0m file\u001b[38;5;241m=\u001b[39mx\u001b[38;5;241m.\u001b[39mread_csv(\u001b[38;5;124m'\u001b[39m\u001b[38;5;124mpandas.csv\u001b[39m\u001b[38;5;124m'\u001b[39m,\u001b[43mindex_col\u001b[49m\u001b[38;5;241m==\u001b[39m\u001b[38;5;124m'\u001b[39m\u001b[38;5;124mNAME\u001b[39m\u001b[38;5;124m'\u001b[39m)\n\u001b[0;32m      3\u001b[0m file[(file[\u001b[38;5;124m'\u001b[39m\u001b[38;5;124mSN\u001b[39m\u001b[38;5;124m'\u001b[39m]\u001b[38;5;241m==\u001b[39m\u001b[38;5;241m1\u001b[39m) \u001b[38;5;241m&\u001b[39m (file[\u001b[38;5;124m'\u001b[39m\u001b[38;5;124mSN\u001b[39m\u001b[38;5;124m'\u001b[39m]\u001b[38;5;241m==\u001b[39m\u001b[38;5;241m5\u001b[39m)]\n",
      "\u001b[1;31mNameError\u001b[0m: name 'index_col' is not defined"
     ]
    }
   ],
   "source": [
    "import pandas as x\n",
    "file=x.read_csv('pandas.csv',index_col=='NAME')\n",
    "file[(file['SN']==1) & (file['SN']==5)]"
   ]
  },
  {
   "cell_type": "code",
   "execution_count": 13,
   "id": "4c5641b6",
   "metadata": {},
   "outputs": [
    {
     "data": {
      "text/html": [
       "<div>\n",
       "<style scoped>\n",
       "    .dataframe tbody tr th:only-of-type {\n",
       "        vertical-align: middle;\n",
       "    }\n",
       "\n",
       "    .dataframe tbody tr th {\n",
       "        vertical-align: top;\n",
       "    }\n",
       "\n",
       "    .dataframe thead th {\n",
       "        text-align: right;\n",
       "    }\n",
       "</style>\n",
       "<table border=\"1\" class=\"dataframe\">\n",
       "  <thead>\n",
       "    <tr style=\"text-align: right;\">\n",
       "      <th></th>\n",
       "      <th>name</th>\n",
       "      <th>age</th>\n",
       "      <th>address</th>\n",
       "    </tr>\n",
       "  </thead>\n",
       "  <tbody>\n",
       "    <tr>\n",
       "      <th>0</th>\n",
       "      <td>ADITYA</td>\n",
       "      <td>13</td>\n",
       "      <td>SANTINAGR</td>\n",
       "    </tr>\n",
       "    <tr>\n",
       "      <th>1</th>\n",
       "      <td>ERIC</td>\n",
       "      <td>14</td>\n",
       "      <td>SANTINAGR</td>\n",
       "    </tr>\n",
       "    <tr>\n",
       "      <th>2</th>\n",
       "      <td>AYUSH</td>\n",
       "      <td>16</td>\n",
       "      <td>SANTINAGR</td>\n",
       "    </tr>\n",
       "    <tr>\n",
       "      <th>3</th>\n",
       "      <td>IMAN</td>\n",
       "      <td>16</td>\n",
       "      <td>SANTINAGR</td>\n",
       "    </tr>\n",
       "    <tr>\n",
       "      <th>4</th>\n",
       "      <td>SUSHANT</td>\n",
       "      <td>14</td>\n",
       "      <td>SANTINAGR</td>\n",
       "    </tr>\n",
       "    <tr>\n",
       "      <th>5</th>\n",
       "      <td>SAMARPAN</td>\n",
       "      <td>15</td>\n",
       "      <td>SANTINAGR</td>\n",
       "    </tr>\n",
       "  </tbody>\n",
       "</table>\n",
       "</div>"
      ],
      "text/plain": [
       "       name  age    address\n",
       "0    ADITYA   13  SANTINAGR\n",
       "1      ERIC   14  SANTINAGR\n",
       "2     AYUSH   16  SANTINAGR\n",
       "3      IMAN   16  SANTINAGR\n",
       "4   SUSHANT   14  SANTINAGR\n",
       "5  SAMARPAN   15  SANTINAGR"
      ]
     },
     "execution_count": 13,
     "metadata": {},
     "output_type": "execute_result"
    }
   ],
   "source": [
    "import pandas as pd\n",
    "data= {'name':['ADITYA', 'ERIC', 'AYUSH', 'IMAN', 'SUSHANT', 'SAMARPAN'],\n",
    "      'age':[13, 14, 16, 16, 14, 15],\n",
    "      'address':['SANTINAGR','SANTINAGR','SANTINAGR','SANTINAGR','SANTINAGR','SANTINAGR']}\n",
    "\n",
    "df= pd.DataFrame(data)\n",
    "\n",
    "df.to_csv('darta.csv')\n",
    "df"
   ]
  },
  {
   "cell_type": "code",
   "execution_count": 79,
   "id": "6532e1d4",
   "metadata": {},
   "outputs": [
    {
     "data": {
      "text/html": [
       "<div>\n",
       "<style scoped>\n",
       "    .dataframe tbody tr th:only-of-type {\n",
       "        vertical-align: middle;\n",
       "    }\n",
       "\n",
       "    .dataframe tbody tr th {\n",
       "        vertical-align: top;\n",
       "    }\n",
       "\n",
       "    .dataframe thead th {\n",
       "        text-align: right;\n",
       "    }\n",
       "</style>\n",
       "<table border=\"1\" class=\"dataframe\">\n",
       "  <thead>\n",
       "    <tr style=\"text-align: right;\">\n",
       "      <th></th>\n",
       "      <th>NAME</th>\n",
       "      <th>ADDRESS</th>\n",
       "    </tr>\n",
       "    <tr>\n",
       "      <th>AGE</th>\n",
       "      <th></th>\n",
       "      <th></th>\n",
       "    </tr>\n",
       "  </thead>\n",
       "  <tbody>\n",
       "    <tr>\n",
       "      <th>15</th>\n",
       "      <td>iman</td>\n",
       "      <td>KATHMANDU</td>\n",
       "    </tr>\n",
       "  </tbody>\n",
       "</table>\n",
       "</div>"
      ],
      "text/plain": [
       "     NAME    ADDRESS\n",
       "AGE                 \n",
       "15   iman  KATHMANDU"
      ]
     },
     "execution_count": 79,
     "metadata": {},
     "output_type": "execute_result"
    }
   ],
   "source": [
    "df=pd.read_csv('darta.csv', index_col='AGE')\n",
    "df.drop([14], axis=0)\n"
   ]
  },
  {
   "cell_type": "code",
   "execution_count": 1,
   "id": "d3f9c929",
   "metadata": {},
   "outputs": [],
   "source": [
    "import csv\n",
    "data=['sn','sabin',53,'Kathmandu']\n",
    "file= open('darta.csv','w')\n",
    "x=csv.writer(file)\n",
    "x.writerow(data)\n",
    "file.close()"
   ]
  },
  {
   "cell_type": "code",
   "execution_count": 22,
   "id": "8eda21df",
   "metadata": {},
   "outputs": [],
   "source": [
    "import csv\n",
    "data=[[1,'sabin',56,'Kathamndu'],\n",
    "     [2,'babin',45,'biratnagar'],\n",
    "     [3,'eric',13,'pokhara']]\n",
    "file= open('darta.csv','w')\n",
    "x= csv.writer(file)\n",
    "for i in data:\n",
    "    x.writerow(i)\n",
    "file.close()"
   ]
  },
  {
   "cell_type": "code",
   "execution_count": 52,
   "id": "3b4fd169",
   "metadata": {},
   "outputs": [],
   "source": [
    "import csv\n",
    "csv_columns=['NAME','AGE','ADDRESS']\n",
    "dict=[{'NAME':'ERIC','AGE':14,'ADDRESS':'KATHMANDU'},\n",
    "     {'NAME':'iman','AGE':15,'ADDRESS':'KATHMANDU'}]\n",
    "csvfile= open('darta.csv','w')\n",
    "writer=csv.DictWriter(csvfile, fieldnames=csv_columns)\n",
    "writer.writeheader()\n",
    "for data in dict:\n",
    "    writer.writerow(data)\n",
    "file.close()"
   ]
  },
  {
   "cell_type": "code",
   "execution_count": 54,
   "id": "76cb3365",
   "metadata": {},
   "outputs": [
    {
     "name": "stdout",
     "output_type": "stream",
     "text": [
      "{'NAME': 'ERIC', 'AGE': '14', 'ADDRESS': 'KATHMANDU'}\n",
      "{'NAME': 'iman', 'AGE': '15', 'ADDRESS': 'KATHMANDU'}\n"
     ]
    }
   ],
   "source": [
    "import csv\n",
    "with open('darta.csv') as csvfile:\n",
    "    csv_columns=['NAME','AGE','ADDRESS']\n",
    "    reader= csv.DictReader(csvfile)\n",
    "    for row in reader:\n",
    "        print(row)\n",
    "file.close()"
   ]
  },
  {
   "cell_type": "code",
   "execution_count": null,
   "id": "f82aeb88",
   "metadata": {},
   "outputs": [],
   "source": []
  }
 ],
 "metadata": {
  "kernelspec": {
   "display_name": "Python 3 (ipykernel)",
   "language": "python",
   "name": "python3"
  },
  "language_info": {
   "codemirror_mode": {
    "name": "ipython",
    "version": 3
   },
   "file_extension": ".py",
   "mimetype": "text/x-python",
   "name": "python",
   "nbconvert_exporter": "python",
   "pygments_lexer": "ipython3",
   "version": "3.9.12"
  }
 },
 "nbformat": 4,
 "nbformat_minor": 5
}

{
 "cells": [
  {
   "cell_type": "code",
   "execution_count": 4,
   "id": "f3fef639",
   "metadata": {},
   "outputs": [
    {
     "name": "stdout",
     "output_type": "stream",
     "text": [
      "OII OII OII K gareko taile??\n"
     ]
    }
   ],
   "source": [
    "a=\"OII \"\n",
    "B=a*3\n",
    "print(B + \"K gareko taile??\")\n"
   ]
  },
  {
   "cell_type": "code",
   "execution_count": 5,
   "id": "54f9fe7b",
   "metadata": {},
   "outputs": [
    {
     "name": "stdout",
     "output_type": "stream",
     "text": [
      "<class 'int'>\n"
     ]
    }
   ],
   "source": [
    "a=10\n",
    "print(type(a))"
   ]
  },
  {
   "cell_type": "code",
   "execution_count": 9,
   "id": "33a1515b",
   "metadata": {},
   "outputs": [
    {
     "name": "stdout",
     "output_type": "stream",
     "text": [
      "enter a value=12121\n",
      "<class 'int'>\n"
     ]
    }
   ],
   "source": [
    "a=int(input(\"enter a value=\"))\n",
    "print(type(a))"
   ]
  },
  {
   "cell_type": "code",
   "execution_count": 12,
   "id": "a05a52ef",
   "metadata": {},
   "outputs": [
    {
     "name": "stdout",
     "output_type": "stream",
     "text": [
      "Enter the quantity of items=3\n",
      "Enter name of the item= momo\n",
      "Enter the price of the item= 200\n",
      "Enter the quantity you want= 3\n",
      "Enter name of the item= ice cream\n",
      "Enter the price of the item= 30\n",
      "Enter the quantity you want= 3\n",
      "Enter name of the item= chaumin\n",
      "Enter the price of the item= 150\n",
      "Enter the quantity you want= 4\n",
      "NAME PRICE QUANTITY TOTAL\n",
      "momo 200 3 600\n",
      "ice cream 30 3 90\n",
      "chaumin 150 4 600\n",
      "\n",
      "Your total expencise is 1290\n"
     ]
    }
   ],
   "source": [
    "a=int(input(\"Enter the quantity of items=\"))\n",
    "\n",
    "b=\"\"\n",
    "GP=0\n",
    "X=\"NAME\"+\" \"+\"PRICE\"+\" \"+\"QUANTITY\"+\" \"+\"TOTAL\"\n",
    "for i in range(0,a):\n",
    "    x=input(\"Enter name of the item= \")\n",
    "    y=int(input(\"Enter the price of the item= \"))\n",
    "    z=int(input(\"Enter the quantity you want= \"))\n",
    "    a=y*z\n",
    "    b= b+ f\"{x} {y} {z} {a}\\n\"\n",
    "    GP=GP+a\n",
    "print(X)\n",
    "print(b)\n",
    "print(\"Your total expencise is\",GP)\n"
   ]
  },
  {
   "cell_type": "code",
   "execution_count": 14,
   "id": "fb126239",
   "metadata": {},
   "outputs": [
    {
     "name": "stdout",
     "output_type": "stream",
     "text": [
      "Yes\n"
     ]
    }
   ],
   "source": [
    "a=\"Eric ram shyam rita gita mina hina\"\n",
    "if \"Eric\" in a:\n",
    "    print(\"Yes\")\n",
    "else:\n",
    "    print(\"NO\")"
   ]
  },
  {
   "cell_type": "code",
   "execution_count": 47,
   "id": "c4dfadd9",
   "metadata": {},
   "outputs": [
    {
     "name": "stdout",
     "output_type": "stream",
     "text": [
      "enter a name= eric\n",
      "no\n"
     ]
    }
   ],
   "source": [
    "a=\"RAM SHYAM BINDA RITA RAMESH SURESH GOPAL IMaN BHARAT ROHIT SUSHANT\".upper()\n",
    "S=input(\"enter a name= \").upper()\n",
    "if S in a:\n",
    "    print(\"yes\")\n",
    "    X=a.count(S)\n",
    "    print(X)\n",
    "else:\n",
    "    print(\"no\")\n",
    "    "
   ]
  },
  {
   "cell_type": "code",
   "execution_count": 50,
   "id": "dba42858",
   "metadata": {},
   "outputs": [
    {
     "name": "stdout",
     "output_type": "stream",
     "text": [
      "Enter the name you want to replace= suresh\n",
      "Enter the name you want to put in= eric\n"
     ]
    },
    {
     "data": {
      "text/plain": [
       "'RAM SHYAM BINDA RITA RAMESH ERIC GOPAL IMAN BHARAT ROHIT SUSHANT'"
      ]
     },
     "execution_count": 50,
     "metadata": {},
     "output_type": "execute_result"
    }
   ],
   "source": [
    "a=\"RAM SHYAM BINDA RITA RAMESH SURESH GOPAL IMaN BHARAT ROHIT SUSHANT\".upper()\n",
    "s=input(\"Enter the name you want to replace= \").upper()\n",
    "b=input(\"Enter the name you want to put in= \").upper()\n",
    "a.replace(s,b)\n"
   ]
  },
  {
   "cell_type": "code",
   "execution_count": 1,
   "id": "aab81b4d",
   "metadata": {},
   "outputs": [
    {
     "name": "stdout",
     "output_type": "stream",
     "text": [
      "Enter the name you want to delete= Ram\n"
     ]
    },
    {
     "data": {
      "text/plain": [
       "'SHYAM BINDA RITA RAMESH SURESH GOPAL IMAN BHARAT ROHIT SUSHANT'"
      ]
     },
     "execution_count": 1,
     "metadata": {},
     "output_type": "execute_result"
    }
   ],
   "source": [
    "a=\"RAM SHYAM BINDA RITA RAMESH SURESH GOPAL IMaN BHARAT ROHIT SUSHANT\".upper()\n",
    "s=input(\"Enter the name you want to delete= \").upper()\n",
    "a.replace(s+\" \",'')\n"
   ]
  },
  {
   "cell_type": "code",
   "execution_count": 4,
   "id": "f81c3a3d",
   "metadata": {},
   "outputs": [
    {
     "name": "stdout",
     "output_type": "stream",
     "text": [
      "BASTOLA\n",
      "BASTOL\n",
      "BASTO\n",
      "BAST\n",
      "BAS\n",
      "BA\n",
      "B\n",
      "\n"
     ]
    }
   ],
   "source": [
    "a=\"BASTOLA\"\n",
    "b=len(a)\n",
    "for i in range(b,-1,-1):\n",
    "    print(a[0:i])"
   ]
  },
  {
   "cell_type": "code",
   "execution_count": 6,
   "id": "1b659c7d",
   "metadata": {},
   "outputs": [
    {
     "name": "stdout",
     "output_type": "stream",
     "text": [
      "B\n",
      "BA\n",
      "BAS\n",
      "BAST\n",
      "BASTO\n",
      "BASTOL\n",
      "BASTOLA\n"
     ]
    }
   ],
   "source": [
    "a=\"BASTOLA\"\n",
    "b=len(a)\n",
    "for i in range(b):\n",
    "    print(a[0:i+1])"
   ]
  },
  {
   "cell_type": "code",
   "execution_count": 7,
   "id": "51106be8",
   "metadata": {},
   "outputs": [
    {
     "name": "stdout",
     "output_type": "stream",
     "text": [
      "annuhnunuhannuhannuh\n"
     ]
    }
   ],
   "source": [
    "a=\"hunnahunnahununhunna\"\n",
    "b=a[::-1]\n",
    "print(b)"
   ]
  },
  {
   "cell_type": "code",
   "execution_count": null,
   "id": "44b37651",
   "metadata": {},
   "outputs": [],
   "source": []
  }
 ],
 "metadata": {
  "kernelspec": {
   "display_name": "Python 3 (ipykernel)",
   "language": "python",
   "name": "python3"
  },
  "language_info": {
   "codemirror_mode": {
    "name": "ipython",
    "version": 3
   },
   "file_extension": ".py",
   "mimetype": "text/x-python",
   "name": "python",
   "nbconvert_exporter": "python",
   "pygments_lexer": "ipython3",
   "version": "3.9.12"
  }
 },
 "nbformat": 4,
 "nbformat_minor": 5
}

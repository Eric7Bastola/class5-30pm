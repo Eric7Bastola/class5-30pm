{
 "cells": [
  {
   "cell_type": "code",
   "execution_count": 12,
   "id": "e03cca0b",
   "metadata": {},
   "outputs": [
    {
     "name": "stdout",
     "output_type": "stream",
     "text": [
      "2059 121 1938 my name is eric bastola\n",
      "<class 'str'>\n",
      "<class 'bool'>\n"
     ]
    }
   ],
   "source": [
    "a=121 \n",
    "b=1938\n",
    "z= \"my name is eric bastola\"\n",
    "c= a+b\n",
    "x= False\n",
    "print(c,a,b,z)\n",
    "print(type(z))\n",
    "print(type(x))\n"
   ]
  },
  {
   "cell_type": "code",
   "execution_count": 17,
   "id": "d144f1ba",
   "metadata": {},
   "outputs": [
    {
     "name": "stdout",
     "output_type": "stream",
     "text": [
      "10000000000000000\n"
     ]
    }
   ],
   "source": [
    "a = 100\n",
    "b = 8\n",
    "c=a**b\n",
    "print(c)"
   ]
  },
  {
   "cell_type": "code",
   "execution_count": 18,
   "id": "eb610f5a",
   "metadata": {},
   "outputs": [
    {
     "name": "stdout",
     "output_type": "stream",
     "text": [
      "2\n"
     ]
    }
   ],
   "source": [
    "a=10\n",
    "b=4\n",
    "c=a//b\n",
    "print(c)"
   ]
  },
  {
   "cell_type": "code",
   "execution_count": 19,
   "id": "e96620bb",
   "metadata": {},
   "outputs": [
    {
     "name": "stdout",
     "output_type": "stream",
     "text": [
      "2000.0\n"
     ]
    }
   ],
   "source": [
    "p=10000\n",
    "t=2\n",
    "r=10\n",
    "si= p*t*r/100\n",
    "print(si)"
   ]
  },
  {
   "cell_type": "code",
   "execution_count": 24,
   "id": "8aca3c17",
   "metadata": {},
   "outputs": [
    {
     "name": "stdout",
     "output_type": "stream",
     "text": [
      "Enter a = 67\n",
      "enter b = 1\n",
      "68\n"
     ]
    }
   ],
   "source": [
    "a = int(input(\"Enter a = \"))\n",
    "b = int(input(\"enter b = \"))\n",
    "c = a+b\n",
    "print(c)\n"
   ]
  },
  {
   "cell_type": "code",
   "execution_count": 31,
   "id": "26af35bc",
   "metadata": {},
   "outputs": [
    {
     "name": "stdout",
     "output_type": "stream",
     "text": [
      "enter a=45\n",
      "enter c=tf\n",
      "45tf\n"
     ]
    }
   ],
   "source": [
    "a= str(input(\"enter a=\"))\n",
    "c= input(\"enter c=\")\n",
    "\n",
    "b= a+c\n",
    "print (b)"
   ]
  },
  {
   "cell_type": "code",
   "execution_count": 34,
   "id": "1bd3ac28",
   "metadata": {},
   "outputs": [
    {
     "name": "stdout",
     "output_type": "stream",
     "text": [
      "enter a=873\n",
      "enter b=12\n",
      "enter c=1\n",
      "The value of simple interest is= 104.76\n"
     ]
    }
   ],
   "source": [
    "a= float(input(\"enter a=\"))\n",
    "b= float(input(\"enter b=\"))\n",
    "c= float(input(\"enter c=\"))\n",
    "pi= a*b*c/100\n",
    "print(\"The value of simple interest is=\",pi)"
   ]
  },
  {
   "cell_type": "code",
   "execution_count": 37,
   "id": "bb358c8d",
   "metadata": {},
   "outputs": [
    {
     "name": "stdout",
     "output_type": "stream",
     "text": [
      "2.0\n"
     ]
    }
   ],
   "source": [
    "a=8\n",
    "b=1/3\n",
    "c= a**b\n",
    "print(c)"
   ]
  },
  {
   "cell_type": "code",
   "execution_count": 38,
   "id": "e7371795",
   "metadata": {},
   "outputs": [
    {
     "name": "stdout",
     "output_type": "stream",
     "text": [
      "12.0\n"
     ]
    }
   ],
   "source": [
    "a=12341\n",
    "b= a%10\n",
    "c= b*10+c\n",
    "z= a//10\n",
    "print(c)"
   ]
  },
  {
   "cell_type": "code",
   "execution_count": null,
   "id": "f1fd26c2",
   "metadata": {},
   "outputs": [],
   "source": [
    "# if statements\n",
    "# if<conditions>:\n",
    "#   <operations>\n",
    "\n",
    "# elif <conditions>:\n",
    "#    <operations>\n",
    "\n",
    "# else <conditions>:\n",
    "#    <operations>"
   ]
  },
  {
   "cell_type": "code",
   "execution_count": 3,
   "id": "2d26efd7",
   "metadata": {},
   "outputs": [
    {
     "name": "stdout",
     "output_type": "stream",
     "text": [
      "a is odd\n"
     ]
    }
   ],
   "source": [
    "a=11\n",
    "if a%2==0:\n",
    "    print(\"a is even\")\n",
    "else:\n",
    "    print(\"a is odd\")"
   ]
  },
  {
   "cell_type": "code",
   "execution_count": 7,
   "id": "d68f1aa2",
   "metadata": {},
   "outputs": [
    {
     "name": "stdout",
     "output_type": "stream",
     "text": [
      "False\n"
     ]
    }
   ],
   "source": [
    "a=13324123\n",
    "b=12213\n",
    "print(a<=b)"
   ]
  },
  {
   "cell_type": "code",
   "execution_count": 14,
   "id": "4aaad6b8",
   "metadata": {},
   "outputs": [
    {
     "name": "stdout",
     "output_type": "stream",
     "text": [
      "Enter the value of a= 12.3\n",
      "Enter the value of b= 12.4\n",
      "b is greater number\n"
     ]
    }
   ],
   "source": [
    "a= float(input(\"Enter the value of a= \"))\n",
    "b= float(input(\"Enter the value of b= \"))\n",
    "if a<b:\n",
    "    print(\"b is greater number\")\n",
    "elif a>b:\n",
    "    print(\"a is greater number\")\n",
    "else: \n",
    "    print(\"They are equal\")\n",
    "    "
   ]
  },
  {
   "cell_type": "code",
   "execution_count": 16,
   "id": "b3a1aabc",
   "metadata": {},
   "outputs": [
    {
     "name": "stdout",
     "output_type": "stream",
     "text": [
      "2\n"
     ]
    }
   ],
   "source": [
    "a= True\n",
    "b= False\n",
    "c= a+a+b\n",
    "print(c)"
   ]
  },
  {
   "cell_type": "code",
   "execution_count": 22,
   "id": "d0087caa",
   "metadata": {},
   "outputs": [
    {
     "name": "stdout",
     "output_type": "stream",
     "text": [
      "Enter your name= ehre\n",
      "Enter the marks of maths= 222\n",
      "Enter the marks of nepali= 33\n",
      "Enter the marks of english= 22\n",
      "A grade\n",
      "ehre has got 277.0 marks.\n"
     ]
    }
   ],
   "source": [
    "N= input(\"Enter your name= \")\n",
    "M= float(input(\"Enter the marks of maths= \"))\n",
    "B= float(input(\"Enter the marks of nepali= \"))\n",
    "E= float(input(\"Enter the marks of english= \"))\n",
    "total = M+ B+E\n",
    "Per= total/3\n",
    "C= str(N) + \" has got \" + str(total) + \" marks.\"\n",
    "if Per >= 80:\n",
    "    print(\"A grade\")\n",
    "elif Per >=60:\n",
    "    print(\"B grade\")\n",
    "elif Per >=40:\n",
    "    print (\"C grade\")\n",
    "else:\n",
    "    print(\"Fail\")\n",
    "print(C)   \n",
    "    \n",
    "    "
   ]
  },
  {
   "cell_type": "code",
   "execution_count": 35,
   "id": "aea12b17",
   "metadata": {},
   "outputs": [
    {
     "name": "stdout",
     "output_type": "stream",
     "text": [
      "Enter value of a=12\n",
      "enter value of b=3\n",
      "Enter 1 for adding or Enter 2 for minus or Enter 3 for multiple or Enter 4 for divide4\n",
      "4.0\n"
     ]
    }
   ],
   "source": [
    "a= int(input(\"Enter value of a=\"))\n",
    "b= int(input(\"enter value of b=\"))\n",
    "c= int(input(\"Enter 1 for adding or Enter 2 for minus or Enter 3 for multiple or Enter 4 for divide\"))\n",
    "\n",
    "if c==1:\n",
    "    print(a+b)\n",
    "elif c==2:\n",
    "    print(a-b)\n",
    "elif c==3:\n",
    "    print(a*b)\n",
    "elif (c==4) and (b!=0):\n",
    "    print(a/b)\n",
    "elif (c==4) and (b==0):\n",
    "    print(\"Undefined\")\n",
    "else:\n",
    "    print(\"Bhakk input garna aaudeina talai\")\n",
    "\n",
    "\n"
   ]
  },
  {
   "cell_type": "code",
   "execution_count": 5,
   "id": "1daa51f3",
   "metadata": {},
   "outputs": [
    {
     "name": "stdout",
     "output_type": "stream",
     "text": [
      "Enter the value of a= -8\n",
      "The given number is even and negative\n"
     ]
    }
   ],
   "source": [
    "a= int(input(\"Enter the value of a= \"))\n",
    "if a%2==0:\n",
    "    if a>0:\n",
    "        print(\"The given number is even and positive\")\n",
    "    else:\n",
    "        print(\"The given number is even and negative\")\n",
    "else:\n",
    "    if a>0:\n",
    "        print(\"The number is odd and positive\")\n",
    "    else:\n",
    "        print(\"the number is odd and negative\")\n",
    "        "
   ]
  },
  {
   "cell_type": "code",
   "execution_count": 12,
   "id": "ad3d5d83",
   "metadata": {},
   "outputs": [
    {
     "name": "stdout",
     "output_type": "stream",
     "text": [
      "Enter the value of a=23\n",
      "Enter the value of b=3\n",
      "Enter + or - or * or /-\n",
      "20\n"
     ]
    }
   ],
   "source": [
    "a=int(input(\"Enter the value of a=\"))\n",
    "b=int(input(\"Enter the value of b=\"))\n",
    "c=input(\"Enter + or - or * or /\")\n",
    "if c==\"+\":\n",
    "    print(a+b)\n",
    "elif c==\"-\":\n",
    "    print(a-b)\n",
    "elif c==\"*\":\n",
    "    print(a*b)\n",
    "elif (c==\"/\"):\n",
    "    if (b!=0):\n",
    "        print(a/b)\n",
    "    elif (b==0):\n",
    "        print(\"Undefined\")\n",
    "else:\n",
    "    print(\"Bhak input garna aaudeina talai bhaiii\")\n",
    "\n",
    "\n",
    "\n"
   ]
  },
  {
   "cell_type": "code",
   "execution_count": 17,
   "id": "d77a63c9",
   "metadata": {},
   "outputs": [
    {
     "name": "stdout",
     "output_type": "stream",
     "text": [
      "Enter the cost price of the product=30\n",
      "Enter the Selling price of the product=30\n",
      "You have got no profit, close your business\n"
     ]
    }
   ],
   "source": [
    "a=int(input(\"Enter the cost price of the product=\"))\n",
    "b= int(input(\"Enter the Selling price of the product=\"))\n",
    "if a>b:\n",
    "    print(\"Not nice sales dude , you are in loss\")\n",
    "    Loss=a-b\n",
    "    print(\"Loss amount is=\",Loss)\n",
    "elif b>a:\n",
    "    print(\"Well done you are in profit\")\n",
    "    profit=b-a\n",
    "    print(\"Profit amount is=\",profit)\n",
    "else:\n",
    "    print(\"You have got no profit, close your business\")\n",
    "\n",
    "    "
   ]
  },
  {
   "cell_type": "code",
   "execution_count": null,
   "id": "f2e84557",
   "metadata": {},
   "outputs": [],
   "source": [
    "#LOOPS\n"
   ]
  }
 ],
 "metadata": {
  "kernelspec": {
   "display_name": "Python 3 (ipykernel)",
   "language": "python",
   "name": "python3"
  },
  "language_info": {
   "codemirror_mode": {
    "name": "ipython",
    "version": 3
   },
   "file_extension": ".py",
   "mimetype": "text/x-python",
   "name": "python",
   "nbconvert_exporter": "python",
   "pygments_lexer": "ipython3",
   "version": "3.9.12"
  }
 },
 "nbformat": 4,
 "nbformat_minor": 5
}

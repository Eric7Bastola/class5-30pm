{
 "cells": [
  {
   "cell_type": "code",
   "execution_count": 2,
   "id": "d6c9f6a3",
   "metadata": {},
   "outputs": [
    {
     "name": "stdout",
     "output_type": "stream",
     "text": [
      "Requirement already satisfied: mysql-connector in c:\\users\\user\\anaconda3\\lib\\site-packages (2.2.9)\n"
     ]
    }
   ],
   "source": [
    "!pip install mysql-connector"
   ]
  },
  {
   "cell_type": "code",
   "execution_count": 5,
   "id": "d553fdd4",
   "metadata": {},
   "outputs": [
    {
     "ename": "DatabaseError",
     "evalue": "1007 (HY000): Can't create database 'pythonsss'; database exists",
     "output_type": "error",
     "traceback": [
      "\u001b[1;31m---------------------------------------------------------------------------\u001b[0m",
      "\u001b[1;31mDatabaseError\u001b[0m                             Traceback (most recent call last)",
      "Input \u001b[1;32mIn [5]\u001b[0m, in \u001b[0;36m<cell line: 9>\u001b[1;34m()\u001b[0m\n\u001b[0;32m      2\u001b[0m database \u001b[38;5;241m=\u001b[39m mysql\u001b[38;5;241m.\u001b[39mconnector\u001b[38;5;241m.\u001b[39mconnect(\n\u001b[0;32m      3\u001b[0m host\u001b[38;5;241m=\u001b[39m\u001b[38;5;124m\"\u001b[39m\u001b[38;5;124mlocalhost\u001b[39m\u001b[38;5;124m\"\u001b[39m,\n\u001b[0;32m      4\u001b[0m user\u001b[38;5;241m=\u001b[39m\u001b[38;5;124m\"\u001b[39m\u001b[38;5;124mroot\u001b[39m\u001b[38;5;124m\"\u001b[39m,\n\u001b[0;32m      5\u001b[0m password\u001b[38;5;241m=\u001b[39m\u001b[38;5;124m\"\u001b[39m\u001b[38;5;124m\"\u001b[39m\n\u001b[0;32m      6\u001b[0m )\n\u001b[0;32m      7\u001b[0m db \u001b[38;5;241m=\u001b[39m database\u001b[38;5;241m.\u001b[39mcursor()\n\u001b[1;32m----> 9\u001b[0m \u001b[43mdb\u001b[49m\u001b[38;5;241;43m.\u001b[39;49m\u001b[43mexecute\u001b[49m\u001b[43m(\u001b[49m\u001b[38;5;124;43m\"\u001b[39;49m\u001b[38;5;124;43mCREATE DATABASE pythonsss\u001b[39;49m\u001b[38;5;124;43m\"\u001b[39;49m\u001b[43m)\u001b[49m\n",
      "File \u001b[1;32m~\\anaconda3\\lib\\site-packages\\mysql\\connector\\cursor.py:551\u001b[0m, in \u001b[0;36mMySQLCursor.execute\u001b[1;34m(self, operation, params, multi)\u001b[0m\n\u001b[0;32m    549\u001b[0m \u001b[38;5;28;01melse\u001b[39;00m:\n\u001b[0;32m    550\u001b[0m     \u001b[38;5;28;01mtry\u001b[39;00m:\n\u001b[1;32m--> 551\u001b[0m         \u001b[38;5;28mself\u001b[39m\u001b[38;5;241m.\u001b[39m_handle_result(\u001b[38;5;28;43mself\u001b[39;49m\u001b[38;5;241;43m.\u001b[39;49m\u001b[43m_connection\u001b[49m\u001b[38;5;241;43m.\u001b[39;49m\u001b[43mcmd_query\u001b[49m\u001b[43m(\u001b[49m\u001b[43mstmt\u001b[49m\u001b[43m)\u001b[49m)\n\u001b[0;32m    552\u001b[0m     \u001b[38;5;28;01mexcept\u001b[39;00m errors\u001b[38;5;241m.\u001b[39mInterfaceError:\n\u001b[0;32m    553\u001b[0m         \u001b[38;5;28;01mif\u001b[39;00m \u001b[38;5;28mself\u001b[39m\u001b[38;5;241m.\u001b[39m_connection\u001b[38;5;241m.\u001b[39m_have_next_result:  \u001b[38;5;66;03m# pylint: disable=W0212\u001b[39;00m\n",
      "File \u001b[1;32m~\\anaconda3\\lib\\site-packages\\mysql\\connector\\connection.py:490\u001b[0m, in \u001b[0;36mMySQLConnection.cmd_query\u001b[1;34m(self, query, raw, buffered, raw_as_string)\u001b[0m\n\u001b[0;32m    488\u001b[0m \u001b[38;5;28;01mif\u001b[39;00m \u001b[38;5;129;01mnot\u001b[39;00m \u001b[38;5;28misinstance\u001b[39m(query, \u001b[38;5;28mbytes\u001b[39m):\n\u001b[0;32m    489\u001b[0m     query \u001b[38;5;241m=\u001b[39m query\u001b[38;5;241m.\u001b[39mencode(\u001b[38;5;124m'\u001b[39m\u001b[38;5;124mutf-8\u001b[39m\u001b[38;5;124m'\u001b[39m)\n\u001b[1;32m--> 490\u001b[0m result \u001b[38;5;241m=\u001b[39m \u001b[38;5;28;43mself\u001b[39;49m\u001b[38;5;241;43m.\u001b[39;49m\u001b[43m_handle_result\u001b[49m\u001b[43m(\u001b[49m\u001b[38;5;28;43mself\u001b[39;49m\u001b[38;5;241;43m.\u001b[39;49m\u001b[43m_send_cmd\u001b[49m\u001b[43m(\u001b[49m\u001b[43mServerCmd\u001b[49m\u001b[38;5;241;43m.\u001b[39;49m\u001b[43mQUERY\u001b[49m\u001b[43m,\u001b[49m\u001b[43m \u001b[49m\u001b[43mquery\u001b[49m\u001b[43m)\u001b[49m\u001b[43m)\u001b[49m\n\u001b[0;32m    492\u001b[0m \u001b[38;5;28;01mif\u001b[39;00m \u001b[38;5;28mself\u001b[39m\u001b[38;5;241m.\u001b[39m_have_next_result:\n\u001b[0;32m    493\u001b[0m     \u001b[38;5;28;01mraise\u001b[39;00m errors\u001b[38;5;241m.\u001b[39mInterfaceError(\n\u001b[0;32m    494\u001b[0m         \u001b[38;5;124m'\u001b[39m\u001b[38;5;124mUse cmd_query_iter for statements with multiple queries.\u001b[39m\u001b[38;5;124m'\u001b[39m)\n",
      "File \u001b[1;32m~\\anaconda3\\lib\\site-packages\\mysql\\connector\\connection.py:395\u001b[0m, in \u001b[0;36mMySQLConnection._handle_result\u001b[1;34m(self, packet)\u001b[0m\n\u001b[0;32m    393\u001b[0m     \u001b[38;5;28;01mreturn\u001b[39;00m \u001b[38;5;28mself\u001b[39m\u001b[38;5;241m.\u001b[39m_handle_eof(packet)\n\u001b[0;32m    394\u001b[0m \u001b[38;5;28;01melif\u001b[39;00m packet[\u001b[38;5;241m4\u001b[39m] \u001b[38;5;241m==\u001b[39m \u001b[38;5;241m255\u001b[39m:\n\u001b[1;32m--> 395\u001b[0m     \u001b[38;5;28;01mraise\u001b[39;00m errors\u001b[38;5;241m.\u001b[39mget_exception(packet)\n\u001b[0;32m    397\u001b[0m \u001b[38;5;66;03m# We have a text result set\u001b[39;00m\n\u001b[0;32m    398\u001b[0m column_count \u001b[38;5;241m=\u001b[39m \u001b[38;5;28mself\u001b[39m\u001b[38;5;241m.\u001b[39m_protocol\u001b[38;5;241m.\u001b[39mparse_column_count(packet)\n",
      "\u001b[1;31mDatabaseError\u001b[0m: 1007 (HY000): Can't create database 'pythonsss'; database exists"
     ]
    }
   ],
   "source": [
    "import mysql.connector\n",
    "database = mysql.connector.connect(\n",
    "host=\"localhost\",\n",
    "user=\"root\",\n",
    "password=\"\"\n",
    ")\n",
    "db = database.cursor()\n",
    "\n",
    "db.execute(\"CREATE DATABASE pythonsss\")"
   ]
  },
  {
   "cell_type": "code",
   "execution_count": 6,
   "id": "4fc62539",
   "metadata": {},
   "outputs": [],
   "source": [
    "import mysql.connector\n",
    "database = mysql.connector.connect(\n",
    "host=\"localhost\",\n",
    "user=\"root\",\n",
    "password=\"\",\n",
    "database=\"first\"\n",
    ")\n",
    "db = database.cursor()\n",
    "\n"
   ]
  },
  {
   "cell_type": "code",
   "execution_count": 7,
   "id": "44ba2eaa",
   "metadata": {},
   "outputs": [
    {
     "name": "stdout",
     "output_type": "stream",
     "text": [
      "(1, 'Eric Bastola', 95, 94, 94, 91, 93, 88, 78, 500)\n",
      "(2, 'Iman Pandit', 57, 98, 99, 91, 90, 98, 88, 505)\n",
      "(3, 'JOHN', 98, 89, 90, 92, 91, 88, 89, 550)\n",
      "(4, 'SAMARPAN', 100, 100, 99, 99, 98, 98, 88, 600)\n",
      "(5, 'BHARAT', 88, 89, 87, 99, 98, 95, 90, 498)\n",
      "(7, 'RIGHBED', 98, 89, 88, 71, 78, 88, 98, 450)\n",
      "(8, 'NISHAN', 98, 89, 88, 91, 88, 98, 98, 480)\n",
      "(9, 'NABIN', 88, 89, 96, 99, 98, 89, 88, 554)\n",
      "(10, 'ANJIT', 98, 89, 88, 71, 93, 78, 88, 600)\n"
     ]
    }
   ],
   "source": [
    "db.execute(\"SELECT * FROM marks\")\n",
    "result =db.fetchall()\n",
    "for x in result:\n",
    "    print(x)"
   ]
  },
  {
   "cell_type": "code",
   "execution_count": 8,
   "id": "3bec6d97",
   "metadata": {},
   "outputs": [
    {
     "name": "stdout",
     "output_type": "stream",
     "text": [
      "(1, 'Eric Bastola', 95, 94, 91)\n",
      "(2, 'Iman Pandit', 57, 98, 91)\n",
      "(3, 'JOHN', 98, 89, 92)\n",
      "(4, 'SAMARPAN', 100, 100, 99)\n",
      "(5, 'BHARAT', 88, 89, 99)\n",
      "(7, 'RIGHBED', 98, 89, 71)\n",
      "(8, 'NISHAN', 98, 89, 91)\n",
      "(9, 'NABIN', 88, 89, 99)\n",
      "(10, 'ANJIT', 98, 89, 71)\n"
     ]
    }
   ],
   "source": [
    "db.execute(\"SELECT SN,NAME,PHYSICS,CHEMISTRY,MATHS FROM marks\")\n",
    "result =db.fetchall()\n",
    "for x in result:\n",
    "    print(x)"
   ]
  },
  {
   "cell_type": "code",
   "execution_count": 9,
   "id": "9f26a910",
   "metadata": {},
   "outputs": [
    {
     "name": "stdout",
     "output_type": "stream",
     "text": [
      "(1, 'Eric Bastola', 95, 94, 94, 91, 93, 88, 78, 500)\n",
      "(2, 'Iman Pandit', 57, 98, 99, 91, 90, 98, 88, 505)\n",
      "(3, 'JOHN', 98, 89, 90, 92, 91, 88, 89, 550)\n",
      "(4, 'SAMARPAN', 100, 100, 99, 99, 98, 98, 88, 600)\n",
      "(9, 'NABIN', 88, 89, 96, 99, 98, 89, 88, 554)\n",
      "(10, 'ANJIT', 98, 89, 88, 71, 93, 78, 88, 600)\n"
     ]
    }
   ],
   "source": [
    "db.execute(\"SELECT * FROM marks WHERE TOTAL>=500\")\n",
    "result =db.fetchall()\n",
    "for x in result:\n",
    "    print(x)"
   ]
  },
  {
   "cell_type": "code",
   "execution_count": 13,
   "id": "d37c0f45",
   "metadata": {},
   "outputs": [],
   "source": [
    "sql='''INSERT INTO marks (SN, NAME, PHYSICS, CHEMISTRY, BIOLOGY, MATHS, EXTRA_MATHS, ENGLISH, NEPALI, TOTAL) VALUES (12, 'ROHIT', 79, 88, 91, 98, 89, 88, 89, 554)'''\n",
    "db.execute(sql)\n",
    "database.commit()\n",
    "\n",
    "\n",
    "\n",
    "\n",
    "\n",
    "\n"
   ]
  },
  {
   "cell_type": "code",
   "execution_count": 12,
   "id": "60484417",
   "metadata": {},
   "outputs": [],
   "source": [
    "sql='''INSERT INTO marks (SN, NAME, PHYSICS, CHEMISTRY, BIOLOGY, MATHS, EXTRA_MATHS, ENGLISH, NEPALI, TOTAL) \n",
    "VALUES (11, 'KZITIZ', 98, 89, 87, 71, 93, 78, 88, 600)'''\n",
    "db.execute(sql)\n",
    "database.commit()\n"
   ]
  },
  {
   "cell_type": "code",
   "execution_count": 40,
   "id": "1932f653",
   "metadata": {},
   "outputs": [],
   "source": [
    "sql=\"DELETE FROM marks WHERE SN=6\"\n",
    "db.execute(sql)\n",
    "database.commit()"
   ]
  },
  {
   "cell_type": "code",
   "execution_count": 41,
   "id": "d42f6b2f",
   "metadata": {},
   "outputs": [],
   "source": [
    "sql= \"UPDATE marks SET NAME = 'JOHN' WHERE NAME='SUSHANT'\"\n",
    "db.execute(sql)\n",
    "database.commit()"
   ]
  },
  {
   "cell_type": "code",
   "execution_count": 20,
   "id": "4b54830c",
   "metadata": {},
   "outputs": [],
   "source": [
    "sql=\"UPDATE marks SET SN = '11' WHERE SN='12'\"\n",
    "db.execute(sql)\n",
    "database.commit()"
   ]
  },
  {
   "cell_type": "markdown",
   "id": "2eb3d690",
   "metadata": {},
   "source": [
    "sql=\"UPDATE marks SET NAME='SUSHANT' WHERE NAME='JOHN'\"\n",
    "db.execute(sql)\n"
   ]
  },
  {
   "cell_type": "code",
   "execution_count": 21,
   "id": "6083f6b4",
   "metadata": {},
   "outputs": [],
   "source": [
    "sql=\"UPDATE marks SET NAME='SUSHANT' WHERE NAME='JOHN'\"\n",
    "db.execute(sql)\n",
    "database.commit()"
   ]
  },
  {
   "cell_type": "code",
   "execution_count": 35,
   "id": "19764b02",
   "metadata": {},
   "outputs": [],
   "source": [
    "\n",
    "sql='''INSERT INTO marks (SN, NAME, PHYSICS, CHEMISTRY, BIOLOGY, MATHS, EXTRA_MATHS, ENGLISH, NEPALI, TOTAL) \n",
    "VALUES (13, 'SAKSHAM', 78, 89, 87, 71, 93, 78, 88, 600)'''\n",
    "\n",
    "db.execute(sql)\n",
    "database.commit()"
   ]
  },
  {
   "cell_type": "code",
   "execution_count": null,
   "id": "5e0c087f",
   "metadata": {},
   "outputs": [],
   "source": [
    "#class <class_name>:\n",
    " #   <methods>\n",
    " #   <attributes>\n",
    "    \n",
    "    \n",
    "#obj=<class_name>()"
   ]
  },
  {
   "cell_type": "code",
   "execution_count": 24,
   "id": "ddc0c036",
   "metadata": {},
   "outputs": [
    {
     "name": "stdout",
     "output_type": "stream",
     "text": [
      "HI EVERYONE \n"
     ]
    }
   ],
   "source": [
    "class Hello:\n",
    "    print(\"HI EVERYONE \")\n",
    "obj= Hello()"
   ]
  },
  {
   "cell_type": "code",
   "execution_count": 29,
   "id": "37947df6",
   "metadata": {},
   "outputs": [
    {
     "name": "stdout",
     "output_type": "stream",
     "text": [
      "HI EVERYONE \n"
     ]
    }
   ],
   "source": [
    "class Hello:\n",
    "    def hello(self):\n",
    "        print(\"HI EVERYONE \")\n",
    "    \n",
    "obj= Hello()\n",
    "obj.hello()"
   ]
  },
  {
   "cell_type": "code",
   "execution_count": 38,
   "id": "d9f6cf96",
   "metadata": {},
   "outputs": [
    {
     "name": "stdout",
     "output_type": "stream",
     "text": [
      "720\n",
      "6480\n"
     ]
    }
   ],
   "source": [
    "class Cal:\n",
    "  \n",
    "    def area(self):\n",
    "        global l,b,h\n",
    "        l=90\n",
    "        b=8\n",
    "        h=9\n",
    "        area=l*b\n",
    "        print(area)\n",
    "        \n",
    "    def volume(self):\n",
    "        vo=l*b*h\n",
    "        print(vo)\n",
    "obj= Cal()\n",
    "obj.area()\n",
    "obj.volume()\n",
    "        "
   ]
  },
  {
   "cell_type": "code",
   "execution_count": 4,
   "id": "b5c03558",
   "metadata": {},
   "outputs": [
    {
     "name": "stdout",
     "output_type": "stream",
     "text": [
      "ENTER LENGTH= 10\n",
      "ENTER BREADTH= 10\n",
      "ENTER HEIGHT= 10\n",
      "100\n",
      "1000\n"
     ]
    },
    {
     "data": {
      "text/plain": [
       "1000"
      ]
     },
     "execution_count": 4,
     "metadata": {},
     "output_type": "execute_result"
    }
   ],
   "source": [
    "x=int(input(\"ENTER LENGTH= \"))\n",
    "y=int(input(\"ENTER BREADTH= \"))\n",
    "z=int(input(\"ENTER HEIGHT= \"))\n",
    "class Cal:\n",
    "    \n",
    "  \n",
    "\n",
    "    def area(self,a,b):\n",
    "        \n",
    "        \n",
    "        area=b*a\n",
    "        print(area)\n",
    "        return area\n",
    "        \n",
    "    def volume(self,a,b,c):\n",
    "        vo=a*b*c\n",
    "        print(vo)\n",
    "        return vo\n",
    "\n",
    "\n",
    "obj= Cal()\n",
    "\n",
    "obj.area(x,y)\n",
    "obj.volume(x,y,z)\n"
   ]
  },
  {
   "cell_type": "code",
   "execution_count": 17,
   "id": "0a852c97",
   "metadata": {},
   "outputs": [
    {
     "name": "stdout",
     "output_type": "stream",
     "text": [
      "110\n",
      "1320\n"
     ]
    }
   ],
   "source": [
    "class Cal:\n",
    "    def __init__(self,x,y,z):\n",
    "        self.x=x\n",
    "        self.y=y\n",
    "        self.z=z\n",
    "    def area(self):\n",
    "        a= self.x*self.y\n",
    "        print(a)\n",
    "    def volume(self):\n",
    "        v=self.x*self.y*self.z\n",
    "        print(v)\n",
    "obj = Cal(10,11,12)\n",
    "obj.area()\n",
    "obj.volume()\n",
    "        "
   ]
  },
  {
   "cell_type": "code",
   "execution_count": 18,
   "id": "fd52da85",
   "metadata": {},
   "outputs": [
    {
     "name": "stdout",
     "output_type": "stream",
     "text": [
      "70\n",
      "560\n"
     ]
    }
   ],
   "source": [
    "class Area:\n",
    "    def __init__(self,l,b):\n",
    "        self.x=l\n",
    "        self.y=b\n",
    "    def area(self):\n",
    "        area=self.x*self.y\n",
    "        print(area)\n",
    "class Volume:\n",
    "    def __init__(self,l,b,h):\n",
    "        self.x=l\n",
    "        self.y=b\n",
    "        self.z=h\n",
    "    def vol(self):\n",
    "        volm=self.x*self.y*self.z\n",
    "        print(volm)\n",
    "        \n",
    "obj1= Area(10,7)\n",
    "obj2= Volume(10,7,8)\n",
    "obj1.area()\n",
    "obj2.vol()"
   ]
  },
  {
   "cell_type": "code",
   "execution_count": 20,
   "id": "b2c36e86",
   "metadata": {},
   "outputs": [
    {
     "name": "stdout",
     "output_type": "stream",
     "text": [
      "ENTER THE NAME= ERIC\n",
      "ENTER THE AGE= 18\n",
      "ENTER THE ADDRESS= SANTIGAR\n",
      "ERIC <class 'str'>\n",
      "ERIC <class '__main__.Information'>\n"
     ]
    }
   ],
   "source": [
    "class Information:\n",
    "    def __init__(self):\n",
    "        self.n= input(\"ENTER THE NAME= \")\n",
    "        self.age= int(input(\"ENTER THE AGE= \"))\n",
    "        self.a=input(\"ENTER THE ADDRESS= \")\n",
    "    def info(self):\n",
    "        return self.n\n",
    "    def __str__(self):\n",
    "        return self.n\n",
    "obj= Information()\n",
    "print(obj.info(),type(obj.info()))\n",
    "print(obj,type(obj))\n",
    "        "
   ]
  },
  {
   "cell_type": "code",
   "execution_count": null,
   "id": "d43acc92",
   "metadata": {},
   "outputs": [],
   "source": []
  }
 ],
 "metadata": {
  "kernelspec": {
   "display_name": "Python 3 (ipykernel)",
   "language": "python",
   "name": "python3"
  },
  "language_info": {
   "codemirror_mode": {
    "name": "ipython",
    "version": 3
   },
   "file_extension": ".py",
   "mimetype": "text/x-python",
   "name": "python",
   "nbconvert_exporter": "python",
   "pygments_lexer": "ipython3",
   "version": "3.9.12"
  }
 },
 "nbformat": 4,
 "nbformat_minor": 5
}

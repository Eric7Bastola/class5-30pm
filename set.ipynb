{
 "cells": [
  {
   "cell_type": "code",
   "execution_count": null,
   "id": "ebd1069a",
   "metadata": {},
   "outputs": [],
   "source": [
    "#set\n",
    "# no indexing\n",
    "# unordered\n",
    "# no duplicate\n",
    "#mutable\n"
   ]
  },
  {
   "cell_type": "code",
   "execution_count": 8,
   "id": "6638a314",
   "metadata": {},
   "outputs": [
    {
     "name": "stdout",
     "output_type": "stream",
     "text": [
      "<class 'set'>\n",
      "{1, 2, 3, 4, 'eric', 'x', 'a'}\n"
     ]
    }
   ],
   "source": [
    "x={1,2,3,4,3,2,\"eric\",\"a\",\"x\",\"a\"}\n",
    "print(type(x))\n",
    "print(x)"
   ]
  },
  {
   "cell_type": "code",
   "execution_count": 9,
   "id": "d9cac859",
   "metadata": {},
   "outputs": [
    {
     "name": "stdout",
     "output_type": "stream",
     "text": [
      "[1, 2, 3, 4, 'eric', 'a', 'x']\n"
     ]
    }
   ],
   "source": [
    "x=[1,2,3,4,3,2,\"eric\",\"a\",\"x\",\"a\"]\n",
    "a=set(x)\n",
    "b=list(a)\n",
    "print(b)"
   ]
  },
  {
   "cell_type": "code",
   "execution_count": 10,
   "id": "73049c95",
   "metadata": {},
   "outputs": [
    {
     "name": "stdout",
     "output_type": "stream",
     "text": [
      "{1, 2, 3, 4, 'eric', 10, 'x', 'a'}\n"
     ]
    }
   ],
   "source": [
    "x={1,2,3,4,3,2,\"eric\",\"a\",\"x\",\"a\"}\n",
    "x.add(10)\n",
    "print(x)"
   ]
  },
  {
   "cell_type": "code",
   "execution_count": 12,
   "id": "9187756b",
   "metadata": {},
   "outputs": [
    {
     "name": "stdout",
     "output_type": "stream",
     "text": [
      "{1, 2, 3, 4, 'eric', ('fish', 'watch'), 'x', 'a'}\n"
     ]
    }
   ],
   "source": [
    "x={1,2,3,4,3,2,\"eric\",\"a\",\"x\",\"a\"}\n",
    "x.add((\"fish\",\"watch\"))\n",
    "print(x)"
   ]
  },
  {
   "cell_type": "code",
   "execution_count": 23,
   "id": "33868b02",
   "metadata": {},
   "outputs": [
    {
     "data": {
      "text/plain": [
       "{'ARTHUR', 'JOHN', 'NICK', 'RICHARD', 'RICK', 'SMITH', 'TOM', 'ZEUS'}"
      ]
     },
     "execution_count": 23,
     "metadata": {},
     "output_type": "execute_result"
    }
   ],
   "source": [
    "ms = {\"ERIC\",\"JOSHAU\",\"MARK\",\"JANE\",\"JOHN\",\"SAM\",\"MICHAEL\"}\n",
    "apple = {\"NICK\",\"JOHN\",\"RICK\",\"TOM\",\"ARTHUR\",\"SMITH\",\"RICHARD\",\"ZEUS\"}\n",
    "\n",
    "ms.union(apple)\n",
    "\n",
    "\n",
    "\n",
    "      "
   ]
  },
  {
   "cell_type": "code",
   "execution_count": 26,
   "id": "ccc91ad3",
   "metadata": {},
   "outputs": [
    {
     "data": {
      "text/plain": [
       "{'JOHN', 'RICHARD'}"
      ]
     },
     "execution_count": 26,
     "metadata": {},
     "output_type": "execute_result"
    }
   ],
   "source": [
    "ms = {\"ERIC\",\"JOSHAU\",\"MARK\",\"JANE\",\"JOHN\",\"SAM\",\"MICHAEL\",\"RICHARD\"}\n",
    "apple = {\"NICK\",\"JOHN\",\"RICK\",\"TOM\",\"ARTHUR\",\"SMITH\",\"RICHARD\",\"ZEUS\"}\n",
    "\n",
    "ms.intersection(apple)\n",
    "\n"
   ]
  },
  {
   "cell_type": "code",
   "execution_count": 28,
   "id": "b92003c9",
   "metadata": {},
   "outputs": [
    {
     "data": {
      "text/plain": [
       "{'ARTHUR', 'NICK', 'RICK', 'SMITH', 'TOM', 'ZEUS'}"
      ]
     },
     "execution_count": 28,
     "metadata": {},
     "output_type": "execute_result"
    }
   ],
   "source": [
    "ms = {\"ERIC\",\"JOSHAU\",\"MARK\",\"JANE\",\"JOHN\",\"SAM\",\"MICHAEL\",\"RICHARD\"}\n",
    "apple = {\"NICK\",\"JOHN\",\"RICK\",\"TOM\",\"ARTHUR\",\"SMITH\",\"RICHARD\",\"ZEUS\"}\n",
    "apple.difference(ms)"
   ]
  },
  {
   "cell_type": "code",
   "execution_count": 30,
   "id": "8d97c6c0",
   "metadata": {},
   "outputs": [
    {
     "data": {
      "text/plain": [
       "{'ARTHUR', 'NICK', 'RICK', 'SMITH', 'TOM', 'ZEUS'}"
      ]
     },
     "execution_count": 30,
     "metadata": {},
     "output_type": "execute_result"
    }
   ],
   "source": [
    "ms = {\"ERIC\",\"JOSHAU\",\"MARK\",\"JANE\",\"JOHN\",\"SAM\",\"MICHAEL\",\"RICHARD\"}\n",
    "apple = {\"NICK\",\"JOHN\",\"RICK\",\"TOM\",\"ARTHUR\",\"SMITH\",\"RICHARD\",\"ZEUS\"}\n",
    "apple-ms"
   ]
  },
  {
   "cell_type": "code",
   "execution_count": 36,
   "id": "ef81863d",
   "metadata": {},
   "outputs": [
    {
     "name": "stdout",
     "output_type": "stream",
     "text": [
      "{'Mike', 'Steve', 'Johan', 'TOM'}\n"
     ]
    }
   ],
   "source": [
    "U=  {\"ERIC\",\"JOSHAU\",\"MARK\",\"JANE\",\"JOHN\",\"SAM\",\"MICHAEL\",\"RICHARD\",\"Fin\",\"Mike\",\"TOM\",\"Johan\",\"TIM\",\"Steve\",\"NICK\",\"JOHN\",\"RICK\",\"ARTHUR\",\"SMITH\",\"RICHARD\",\"ZEUS\",\"Fin\",\"TIM\"}\n",
    "apple = {\"NICK\",\"JOHN\",\"RICK\",\"ARTHUR\",\"SMITH\",\"RICHARD\",\"ZEUS\",\"Fin\",\"TIM\"}\n",
    "ms = {\"ERIC\",\"JOSHAU\",\"MARK\",\"JANE\",\"JOHN\",\"SAM\",\"MICHAEL\",\"RICHARD\"}\n",
    "U.difference(ms.union(apple))\n",
    "print(b)\n"
   ]
  },
  {
   "cell_type": "code",
   "execution_count": null,
   "id": "1a88a04a",
   "metadata": {},
   "outputs": [],
   "source": []
  }
 ],
 "metadata": {
  "kernelspec": {
   "display_name": "Python 3 (ipykernel)",
   "language": "python",
   "name": "python3"
  },
  "language_info": {
   "codemirror_mode": {
    "name": "ipython",
    "version": 3
   },
   "file_extension": ".py",
   "mimetype": "text/x-python",
   "name": "python",
   "nbconvert_exporter": "python",
   "pygments_lexer": "ipython3",
   "version": "3.9.12"
  }
 },
 "nbformat": 4,
 "nbformat_minor": 5
}

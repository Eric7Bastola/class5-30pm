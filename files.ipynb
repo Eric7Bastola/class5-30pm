{
 "cells": [
  {
   "cell_type": "code",
   "execution_count": 1,
   "id": "79dc9a87",
   "metadata": {},
   "outputs": [],
   "source": [
    "# mode\n",
    "# read = r\n",
    "# append= a\n",
    "#write= w\n",
    "#create = x"
   ]
  },
  {
   "cell_type": "code",
   "execution_count": null,
   "id": "d7b89b41",
   "metadata": {},
   "outputs": [],
   "source": [
    "# FILE\n",
    "# file = open('<file_name>','mode')\n",
    "\n",
    "\n",
    "# with open(\"file name\",'mode') as file:\n",
    "# operations..."
   ]
  },
  {
   "cell_type": "code",
   "execution_count": 5,
   "id": "0c804657",
   "metadata": {},
   "outputs": [
    {
     "name": "stdout",
     "output_type": "stream",
     "text": [
      "The file is als=ready there\n"
     ]
    }
   ],
   "source": [
    "try:\n",
    "    file = open('Eric','x')\n",
    "    file.close()\n",
    "except:\n",
    "    print(\"The file is already there\")"
   ]
  },
  {
   "cell_type": "code",
   "execution_count": 3,
   "id": "dada2784",
   "metadata": {},
   "outputs": [],
   "source": [
    "file = open('Eric','x')\n",
    "file.close()\n",
    "    "
   ]
  },
  {
   "cell_type": "code",
   "execution_count": 8,
   "id": "d67b25ed",
   "metadata": {},
   "outputs": [
    {
     "name": "stdout",
     "output_type": "stream",
     "text": [
      "eric eirc\n",
      "aiudqwd\n",
      "hsdluqge\n",
      "uycg1luyfg13\n",
      "\n"
     ]
    }
   ],
   "source": [
    "file= open('Eric','r')\n",
    "x= file.read()\n",
    "print(x)\n",
    "file.close()"
   ]
  },
  {
   "cell_type": "code",
   "execution_count": 10,
   "id": "57381fa4",
   "metadata": {},
   "outputs": [
    {
     "name": "stdout",
     "output_type": "stream",
     "text": [
      "['eric eirc', 'aiudqwd', 'hsdluqge', 'uycg1luyfg13', '']\n"
     ]
    }
   ],
   "source": [
    "y=x.split('\\n')\n",
    "print(y)"
   ]
  },
  {
   "cell_type": "code",
   "execution_count": 13,
   "id": "f16febf8",
   "metadata": {},
   "outputs": [],
   "source": [
    "file= open('eric1.txt','w')\n",
    "file.write(\"OI sachei xas ki naiii???\")\n",
    "file.close()"
   ]
  },
  {
   "cell_type": "code",
   "execution_count": 20,
   "id": "407a2644",
   "metadata": {},
   "outputs": [
    {
     "name": "stdout",
     "output_type": "stream",
     "text": [
      "Enter a number= 4\n",
      "Enter your name= eric\n",
      "Enter your address = santungar\n",
      "Enter your age = 13\n",
      "Enter your name= suahant\n",
      "Enter your address = balkumari\n",
      "Enter your age = 14\n",
      "Enter your name= iman\n",
      "Enter your address = koteswor\n",
      "Enter your age = 14\n",
      "Enter your name= samarpan\n",
      "Enter your address = baneshwor\n",
      "Enter your age = 14\n"
     ]
    }
   ],
   "source": [
    "s=str()\n",
    "n=int(input(\"Enter a number= \"))\n",
    "for i in range(n):\n",
    "    a=input(\"Enter your name= \")\n",
    "    b=input(\"Enter your address = \")\n",
    "    c=int(input(\"Enter your age = \"))\n",
    "    d=f\"Hello world!! My name is {a}. I am {c} years old. I live in {b}.\"\n",
    "    s=s+d+\"\\n\"\n",
    "file=open('eric1.txt','w')\n",
    "file.write(s)\n",
    "file.close()"
   ]
  },
  {
   "cell_type": "code",
   "execution_count": 21,
   "id": "3538c8af",
   "metadata": {},
   "outputs": [
    {
     "data": {
      "text/plain": [
       "'C:\\\\Users\\\\user\\\\Merobhabisya'"
      ]
     },
     "execution_count": 21,
     "metadata": {},
     "output_type": "execute_result"
    }
   ],
   "source": [
    "pwd"
   ]
  },
  {
   "cell_type": "code",
   "execution_count": 31,
   "id": "d587780f",
   "metadata": {},
   "outputs": [
    {
     "name": "stdout",
     "output_type": "stream",
     "text": [
      "Enter a number= 3\n",
      "Enter your name= ERIC\n",
      "Enter your address = BASTOLA\n",
      "Enter your age = 13\n",
      "Enter your name= SUAHANT\n",
      "Enter your address = RAPAJ\n",
      "Enter your age = 2\n",
      "Enter your name= UMAN\n",
      "Enter your address = JSNA\n",
      "Enter your age = 23\n"
     ]
    }
   ],
   "source": [
    "s=str()\n",
    "n=int(input(\"Enter a number= \"))\n",
    "for i in range(n):\n",
    "    a=input(\"Enter your name= \")\n",
    "    b=input(\"Enter your address = \")\n",
    "    c=int(input(\"Enter your age = \"))\n",
    "    d=f\" {a},{c},{b}\"\n",
    "    s=s+d+\"\\n\"\n",
    "file=open('eric1.csv','w')\n",
    "file.write('Name,Age,ADDRESS\\n')\n",
    "file.write(s)\n",
    "file.close()"
   ]
  },
  {
   "cell_type": "code",
   "execution_count": 32,
   "id": "20b3014f",
   "metadata": {},
   "outputs": [],
   "source": [
    "file=open('eric1.csv','a')\n",
    "file.write(\"ERIC,BASTOLA,12\\n\")\n",
    "file.close()"
   ]
  },
  {
   "cell_type": "code",
   "execution_count": 36,
   "id": "323bccb6",
   "metadata": {},
   "outputs": [
    {
     "name": "stdout",
     "output_type": "stream",
     "text": [
      "Enter a number= 3\n",
      "Enter your name= ima\n",
      "Enter your address = jsasa\n",
      "Enter your age = 2\n",
      "Enter your name= jsajas\n",
      "Enter your address = jsajds\n",
      "Enter your age = 3\n",
      "Enter your name= jasjas\n",
      "Enter your address = jdjd\n",
      "Enter your age = 3\n"
     ]
    }
   ],
   "source": [
    "f=open('ericcc.csv','w')\n",
    "f.write('Name,Age,ADDRESS\\n')\n",
    "n=int(input(\"Enter a number= \"))\n",
    "for i in range(n):\n",
    "    a=input(\"Enter your name= \")\n",
    "    b=input(\"Enter your address = \")\n",
    "    c=int(input(\"Enter your age = \"))\n",
    "    d=f\"{a},{c},{b}\\n\"\n",
    "    f.write(d)\n",
    "\n",
    "\n",
    "file.close()"
   ]
  },
  {
   "cell_type": "code",
   "execution_count": null,
   "id": "5bc57cdf",
   "metadata": {},
   "outputs": [],
   "source": []
  }
 ],
 "metadata": {
  "kernelspec": {
   "display_name": "Python 3 (ipykernel)",
   "language": "python",
   "name": "python3"
  },
  "language_info": {
   "codemirror_mode": {
    "name": "ipython",
    "version": 3
   },
   "file_extension": ".py",
   "mimetype": "text/x-python",
   "name": "python",
   "nbconvert_exporter": "python",
   "pygments_lexer": "ipython3",
   "version": "3.9.12"
  }
 },
 "nbformat": 4,
 "nbformat_minor": 5
}

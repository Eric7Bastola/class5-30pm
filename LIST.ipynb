{
 "cells": [
  {
   "cell_type": "code",
   "execution_count": null,
   "id": "32b03251",
   "metadata": {},
   "outputs": [],
   "source": [
    "# python collection\n",
    "# list\n",
    "# tuple\n",
    "# dictionary\n",
    "# set\n"
   ]
  },
  {
   "cell_type": "code",
   "execution_count": null,
   "id": "614a6105",
   "metadata": {},
   "outputs": [],
   "source": [
    "list\n",
    "-indexing\n",
    "-ordered\n",
    "-multiple data\n",
    "-mutable\n"
   ]
  },
  {
   "cell_type": "code",
   "execution_count": 1,
   "id": "9bc9ce29",
   "metadata": {},
   "outputs": [
    {
     "name": "stdout",
     "output_type": "stream",
     "text": [
      "Enter the value you want to search= y\n",
      "yess\n",
      "1\n"
     ]
    }
   ],
   "source": [
    "a=\"A B C D E F G H I J K L M N O P Q R S T U V W X Y Z\".upper()\n",
    "s=input(\"Enter the value you want to search= \").upper()\n",
    "if s in a:\n",
    "    print(\"yess\")\n",
    "    x=a.count(s)\n",
    "    print(x)\n",
    "else:\n",
    "    print(\"No\")"
   ]
  },
  {
   "cell_type": "code",
   "execution_count": 7,
   "id": "a715e974",
   "metadata": {},
   "outputs": [
    {
     "name": "stdout",
     "output_type": "stream",
     "text": [
      "['ONE', 'TWO', 'THREE']\n"
     ]
    }
   ],
   "source": [
    "a=[\"ONE\",\"TWO\",\"THREE\",\"FOUR\",\"FIVE\"]\n",
    "print(a[0:3])"
   ]
  },
  {
   "cell_type": "code",
   "execution_count": 9,
   "id": "9e3a958c",
   "metadata": {},
   "outputs": [
    {
     "name": "stdout",
     "output_type": "stream",
     "text": [
      "asto\n"
     ]
    }
   ],
   "source": [
    "a=\"bastola\"\n",
    "print(a[1:5])"
   ]
  },
  {
   "cell_type": "code",
   "execution_count": 10,
   "id": "7c87a2e5",
   "metadata": {},
   "outputs": [
    {
     "name": "stdout",
     "output_type": "stream",
     "text": [
      "['one', 'two', 'three', 55, 66, 'ONE', 'TWO', 'THREE', 'FOUR', 'FIVE']\n"
     ]
    }
   ],
   "source": [
    "a=[\"one\", \"two\",\"three\",55, 66]\n",
    "b=[\"ONE\",\"TWO\",\"THREE\",\"FOUR\",\"FIVE\"]\n",
    "c=a+b\n",
    "print(c)"
   ]
  },
  {
   "cell_type": "code",
   "execution_count": 16,
   "id": "f624f437",
   "metadata": {},
   "outputs": [
    {
     "name": "stdout",
     "output_type": "stream",
     "text": [
      "Enter the position of data you want to change= 3\n",
      "Enter the word you want to put in= erik\n",
      "['eric', 'ram', 'shyam', 'erik']\n"
     ]
    }
   ],
   "source": [
    "a=[\"eric\",\"ram\",\"shyam\",\"sita\"]\n",
    "b=int(input(\"Enter the position of data you want to change= \"))\n",
    "c=input(\"Enter the word you want to put in= \")\n",
    "a[b]=c\n",
    "print(a)"
   ]
  },
  {
   "cell_type": "code",
   "execution_count": 12,
   "id": "2afa759a",
   "metadata": {},
   "outputs": [],
   "source": [
    "#functions in list\n",
    "# append(), insert(), extend()\n"
   ]
  },
  {
   "cell_type": "code",
   "execution_count": 17,
   "id": "799afe4f",
   "metadata": {},
   "outputs": [
    {
     "name": "stdout",
     "output_type": "stream",
     "text": [
      "['ERIC', 'SYAM']\n"
     ]
    }
   ],
   "source": [
    "a=[]\n",
    "a.append(\"ERIC\")\n",
    "a.append(\"SYAM\")\n",
    "print(a)"
   ]
  },
  {
   "cell_type": "code",
   "execution_count": 18,
   "id": "804d35d6",
   "metadata": {},
   "outputs": [
    {
     "name": "stdout",
     "output_type": "stream",
     "text": [
      "['eric', 'sam', 'ram', 'shyam', 'sita', 'SYAM']\n"
     ]
    }
   ],
   "source": [
    "a=[\"eric\",\"ram\",\"shyam\",\"sita\"]\n",
    "a.insert(1,\"sam\")\n",
    "a.append(\"SYAM\")\n",
    "print(a)"
   ]
  },
  {
   "cell_type": "code",
   "execution_count": 21,
   "id": "241995b7",
   "metadata": {},
   "outputs": [
    {
     "name": "stdout",
     "output_type": "stream",
     "text": [
      "['eric', 'ram', 'shyam', 'sita', 'ONE', 'TWO', 'THREE', 'FOUR', 'FIVE', 'A B C D E F G H ', 'I J K L M N O P', 'Q R S T U V W X Y Z']\n"
     ]
    }
   ],
   "source": [
    "a=[\"eric\",\"ram\",\"shyam\",\"sita\"]\n",
    "c=[\"ONE\",\"TWO\",\"THREE\",\"FOUR\",\"FIVE\"]\n",
    "b=[\"A B C D E F G H \", \"I J K L M N O P\", \"Q R S T U V W X Y Z\"]\n",
    "c.extend(b)\n",
    "a.extend(c)\n",
    "\n",
    "print(a)\n"
   ]
  },
  {
   "cell_type": "code",
   "execution_count": 23,
   "id": "3b61b70e",
   "metadata": {},
   "outputs": [
    {
     "name": "stdout",
     "output_type": "stream",
     "text": [
      "Enter the value = 3\n",
      "Enter the values= eric\n",
      "Enter the values= bastola\n",
      "Enter the values= 11\n",
      "['eric', 'bastola', '11']\n"
     ]
    }
   ],
   "source": [
    "data=[]\n",
    "n=int(input(\"Enter the value = \"))\n",
    "for i in range(n):\n",
    "    b=input(\"Enter the values= \")\n",
    "    data.append(b)\n",
    "print(data)\n",
    "    "
   ]
  },
  {
   "cell_type": "code",
   "execution_count": 1,
   "id": "ce94ac80",
   "metadata": {},
   "outputs": [
    {
     "name": "stdout",
     "output_type": "stream",
     "text": [
      "Enter the value = 3\n",
      "Enter the values= eric\n",
      "Enter the values= bastola\n",
      "Enter the values= 11\n",
      "['a', 'eric', 'b', 'bastola', 'c', '11', 'd', 'e', 'f']\n"
     ]
    }
   ],
   "source": [
    "data=[\"a\",\"b\",\"c\",\"d\",\"e\",\"f\"]\n",
    "n=int(input(\"Enter the value = \"))\n",
    "c=1\n",
    "for i in range(n):\n",
    "    b=input(\"Enter the values= \")\n",
    "    data.insert(c,b)\n",
    "    c=c+2\n",
    "print(data)\n",
    "    \n",
    "    "
   ]
  },
  {
   "cell_type": "code",
   "execution_count": 8,
   "id": "6e3efdd1",
   "metadata": {},
   "outputs": [
    {
     "name": "stdout",
     "output_type": "stream",
     "text": [
      "yess\n",
      "1\n"
     ]
    }
   ],
   "source": [
    "a=[\"RAM\",\"SAM\",\"HARI\",\"GITA\"]\n",
    "if \"RAM\" in a:\n",
    "    print(\"yess\")\n",
    "    x=a.count(\"RAM\")\n",
    "    print(x)"
   ]
  },
  {
   "cell_type": "code",
   "execution_count": 1,
   "id": "348e5451",
   "metadata": {},
   "outputs": [
    {
     "name": "stdout",
     "output_type": "stream",
     "text": [
      "['RAM', 'HARI', 'GITA']\n"
     ]
    }
   ],
   "source": [
    "#del remove() pop()\n",
    "a=[\"RAM\",\"SAM\",\"HARI\",\"GITA\"]\n",
    "del a[1]\n",
    "print(a)"
   ]
  },
  {
   "cell_type": "code",
   "execution_count": 11,
   "id": "3f07b7aa",
   "metadata": {},
   "outputs": [
    {
     "name": "stdout",
     "output_type": "stream",
     "text": [
      "['RAM', 'HARI', 'GITA']\n"
     ]
    }
   ],
   "source": [
    "a=[\"RAM\",\"SAM\",\"HARI\",\"GITA\"]\n",
    "a.remove(\"SAM\")\n",
    "print(a)"
   ]
  },
  {
   "cell_type": "code",
   "execution_count": 12,
   "id": "42214715",
   "metadata": {},
   "outputs": [
    {
     "name": "stdout",
     "output_type": "stream",
     "text": [
      "GITA\n"
     ]
    }
   ],
   "source": [
    "a=[\"RAM\",\"SAM\",\"HARI\",\"GITA\"]\n",
    "x=a.pop(3)\n",
    "print(x)"
   ]
  },
  {
   "cell_type": "code",
   "execution_count": 2,
   "id": "bdbfc807",
   "metadata": {},
   "outputs": [
    {
     "name": "stdout",
     "output_type": "stream",
     "text": [
      "['SAM', 'HARI', 'GITA']\n"
     ]
    }
   ],
   "source": [
    "b=[]\n",
    "c= [\"RAM\",\"SAM\",\"HARI\",\"GITA\",\"RAM\"]\n",
    "for i in c:\n",
    "    if i!=\"RAM\":\n",
    "        b.append(i)\n",
    "print(b)"
   ]
  },
  {
   "cell_type": "code",
   "execution_count": 4,
   "id": "9d2cc8e5",
   "metadata": {},
   "outputs": [
    {
     "data": {
      "text/plain": [
       "2"
      ]
     },
     "execution_count": 4,
     "metadata": {},
     "output_type": "execute_result"
    }
   ],
   "source": [
    "b=[\"RAM\",\"SAM\",\"HARI\",\"GITA\"]\n",
    "b.index(\"HARI\")"
   ]
  },
  {
   "cell_type": "code",
   "execution_count": 6,
   "id": "f1f49086",
   "metadata": {},
   "outputs": [
    {
     "name": "stdout",
     "output_type": "stream",
     "text": [
      "0\n",
      "4\n"
     ]
    }
   ],
   "source": [
    "c= [\"RAM\",\"SAM\",\"HARI\",\"GITA\",\"RAM\"]\n",
    "for i in range(len(c)):\n",
    "    if c[i]==\"RAM\":\n",
    "        print(i)"
   ]
  },
  {
   "cell_type": "code",
   "execution_count": 9,
   "id": "3aa7685c",
   "metadata": {},
   "outputs": [
    {
     "data": {
      "text/plain": [
       "['A', 'B', 'C', 'D', 'E', 'F', 'G', 'H', 'I', 'J']"
      ]
     },
     "execution_count": 9,
     "metadata": {},
     "output_type": "execute_result"
    }
   ],
   "source": [
    "c=\"A B C D E F G H I J\"\n",
    "c.split( )"
   ]
  },
  {
   "cell_type": "code",
   "execution_count": 11,
   "id": "18cabe7f",
   "metadata": {},
   "outputs": [
    {
     "data": {
      "text/plain": [
       "['a', 'b', 'x', 'c', 'd', 'f', 'r', 'e']"
      ]
     },
     "execution_count": 11,
     "metadata": {},
     "output_type": "execute_result"
    }
   ],
   "source": [
    "c=\"a]b]x]c]d]f]r]e\"\n",
    "c.split(\"]\")"
   ]
  },
  {
   "cell_type": "code",
   "execution_count": 29,
   "id": "f33df99f",
   "metadata": {},
   "outputs": [
    {
     "name": "stdout",
     "output_type": "stream",
     "text": [
      "ENTER A WORD= eric\n",
      "not\n"
     ]
    }
   ],
   "source": [
    "a=input(\"ENTER A WORD= \")\n",
    "b=len(a)-1\n",
    "s=\"\"\n",
    "for i in range(b,-1,-1):\n",
    "    s=s+a[i]\n",
    "if s==a:\n",
    "    print(\"palindrome\")\n",
    "else:\n",
    "    print(\"not\")\n",
    "\n",
    "    "
   ]
  },
  {
   "cell_type": "code",
   "execution_count": 6,
   "id": "566199fc",
   "metadata": {},
   "outputs": [
    {
     "name": "stdout",
     "output_type": "stream",
     "text": [
      "Enter the value of n= 3\n",
      "Enter name=eric\n",
      "Enter addresss=biratnagar\n",
      "Enter the age = 13\n",
      "Enter name=iman\n",
      "Enter addresss=imanagar\n",
      "Enter the age = 12\n",
      "Enter name=shyam\n",
      "Enter addresss=harinagar\n",
      "Enter the age = 15\n",
      "[['eric', 'biratnagar', 13], ['iman', 'imanagar', 12], ['shyam', 'harinagar', 15]]\n",
      "First is ['eric', 'biratnagar', 13]\n"
     ]
    }
   ],
   "source": [
    "data=[]\n",
    "n=int(input(\"Enter the value of n= \"))\n",
    "for i in range(n):\n",
    "    name= input(\"Enter name=\")\n",
    "    address=input(\"Enter addresss=\")\n",
    "    age=int(input(\"Enter the age = \"))\n",
    "    info= [name,address,age]\n",
    "    data.append(info)\n",
    "    \n",
    "print(data)\n",
    "print(\"First is\", data[0])"
   ]
  },
  {
   "cell_type": "code",
   "execution_count": 10,
   "id": "c630cd94",
   "metadata": {},
   "outputs": [
    {
     "name": "stdout",
     "output_type": "stream",
     "text": [
      "ALOTSABCIRE\n"
     ]
    }
   ],
   "source": [
    "a=\"ERICBASTOLA\"\n",
    "b=a[::-1]\n",
    "print(b)\n",
    "          "
   ]
  },
  {
   "cell_type": "code",
   "execution_count": 13,
   "id": "20ae7e63",
   "metadata": {
    "scrolled": true
   },
   "outputs": [
    {
     "name": "stdout",
     "output_type": "stream",
     "text": [
      "harinagar\n"
     ]
    }
   ],
   "source": [
    "a=[['eric', 'biratnagar', 13], ['iman', 'imanagar', 12], ['shyam', 'harinagar', 15]]\n",
    "p=a[2][1]\n",
    "print(p)"
   ]
  },
  {
   "cell_type": "code",
   "execution_count": 15,
   "id": "33a83c5d",
   "metadata": {},
   "outputs": [
    {
     "name": "stdout",
     "output_type": "stream",
     "text": [
      "Enter the value you want to searchA\n",
      "Yess\n",
      "8\n"
     ]
    }
   ],
   "source": [
    "a=\"ERIC BASTOLA RAM SHYAM HARI GITA SITA IMAN\".upper()\n",
    "b=input(\"Enter the value you want to search= \").upper()\n",
    "if b in a:\n",
    "    print(\"Yess\")\n",
    "    x=a.count(b)\n",
    "    print(x)\n",
    "else:\n",
    "    print(\"No\")"
   ]
  },
  {
   "cell_type": "code",
   "execution_count": 2,
   "id": "3f285dfa",
   "metadata": {},
   "outputs": [
    {
     "name": "stdout",
     "output_type": "stream",
     "text": [
      "Enter the value you want to replace= eric\n",
      "Enter the value you want to put in= sam\n"
     ]
    },
    {
     "data": {
      "text/plain": [
       "'SAM BASTOLA RAM SHYAM HARI GITA SITA IMAN'"
      ]
     },
     "execution_count": 2,
     "metadata": {},
     "output_type": "execute_result"
    }
   ],
   "source": [
    "a=\"ERIC BASTOLA RAM SHYAM HARI GITA SITA IMAN\".upper()\n",
    "b=input(\"Enter the value you want to replace= \").upper()\n",
    "c=input(\"Enter the value you want to put in= \").upper()\n",
    "a.replace(b,c)\n"
   ]
  },
  {
   "cell_type": "code",
   "execution_count": 4,
   "id": "01c98609",
   "metadata": {},
   "outputs": [
    {
     "name": "stdout",
     "output_type": "stream",
     "text": [
      "Enter the value you want to replace= eric\n"
     ]
    },
    {
     "data": {
      "text/plain": [
       "'BASTOLA RAM SHYAM HARI GITA SITA IMAN'"
      ]
     },
     "execution_count": 4,
     "metadata": {},
     "output_type": "execute_result"
    }
   ],
   "source": [
    "a=\"ERIC BASTOLA RAM SHYAM HARI GITA SITA IMAN\".upper()\n",
    "b=input(\"Enter the value you want to replace= \").upper()\n",
    "a.replace(b+\" \",\"\")"
   ]
  },
  {
   "cell_type": "code",
   "execution_count": 8,
   "id": "681c3542",
   "metadata": {},
   "outputs": [
    {
     "name": "stdout",
     "output_type": "stream",
     "text": [
      "[['RAM', 'SAM', 'HARI', 'GITA', 'RAM'], ['a', 'b', 'c']]\n"
     ]
    }
   ],
   "source": [
    "c= [[\"RAM\",\"SAM\",\"HARI\",\"GITA\",\"RAM\"]]\n",
    "b=[['a','b','c']]\n",
    "c.extend(b)\n",
    "print(c)\n"
   ]
  },
  {
   "cell_type": "code",
   "execution_count": 9,
   "id": "b1bcbeaa",
   "metadata": {},
   "outputs": [
    {
     "data": {
      "text/plain": [
       "2"
      ]
     },
     "execution_count": 9,
     "metadata": {},
     "output_type": "execute_result"
    }
   ],
   "source": [
    "len(c)"
   ]
  },
  {
   "cell_type": "code",
   "execution_count": 10,
   "id": "8a5eef3d",
   "metadata": {},
   "outputs": [
    {
     "name": "stdout",
     "output_type": "stream",
     "text": [
      "RAM\n"
     ]
    }
   ],
   "source": [
    "a=[['RAM', 'SAM', 'HARI', 'GITA', 'RAM'], ['a', 'b', 'c']]\n",
    "f=a[0][0]\n",
    "print(f)"
   ]
  },
  {
   "cell_type": "code",
   "execution_count": 13,
   "id": "ef4c023c",
   "metadata": {},
   "outputs": [
    {
     "name": "stdout",
     "output_type": "stream",
     "text": [
      "Enter the name of data you are looking for = HARI\n",
      "['RAM', 'SAM', 'HARI', 'GITA', 'RAM']\n"
     ]
    }
   ],
   "source": [
    "a=[['RAM', 'SAM', 'HARI', 'GITA', 'RAM'], ['a', 'b', 'c']]\n",
    "b=input(\"Enter the name of data you are looking for = \")\n",
    "for i in a:\n",
    "    if b in i:\n",
    "        print(i)"
   ]
  },
  {
   "cell_type": "code",
   "execution_count": 15,
   "id": "701d8fe7",
   "metadata": {},
   "outputs": [
    {
     "data": {
      "text/plain": [
       "0"
      ]
     },
     "execution_count": 15,
     "metadata": {},
     "output_type": "execute_result"
    }
   ],
   "source": [
    "a=[['RAM', 'SAM', 'HARI', 'GITA', 'RAM'], ['a', 'b', 'c']]\n",
    "a.index(\"RAM\")"
   ]
  },
  {
   "cell_type": "code",
   "execution_count": 17,
   "id": "18ff8cdb",
   "metadata": {},
   "outputs": [
    {
     "name": "stdout",
     "output_type": "stream",
     "text": [
      "[['RAM', 'SAM', 'HARI', 'GITA', 'RAM'], ['ERIC', 'IMAN', 'RAVIN']]\n"
     ]
    }
   ],
   "source": [
    "a=[['RAM', 'SAM', 'HARI', 'GITA', 'RAM'], ['a', 'b', 'c']]\n",
    "a[1][0]=\"ERIC\"\n",
    "a[1][1]=\"IMAN\"\n",
    "a[1][2]=\"RAVIN\"\n",
    "print(a)"
   ]
  },
  {
   "cell_type": "code",
   "execution_count": null,
   "id": "bd09b3f2",
   "metadata": {},
   "outputs": [],
   "source": [
    "#wap to delete duplicate rows haivng same name\n",
    "# wap to create a list inside list with given rows and columns\n",
    "\n"
   ]
  },
  {
   "cell_type": "code",
   "execution_count": 1,
   "id": "00f95374",
   "metadata": {},
   "outputs": [
    {
     "name": "stdout",
     "output_type": "stream",
     "text": [
      "yess\n"
     ]
    }
   ],
   "source": [
    "c= [\"RAM\",\"SAM\",\"HARI\",\"GITA\",\"RAM\"]\n",
    "if \"RAM\" in c:\n",
    "    print(\"yess\")\n",
    "else:\n",
    "    print(\"no\")"
   ]
  },
  {
   "cell_type": "code",
   "execution_count": 12,
   "id": "e8374e27",
   "metadata": {},
   "outputs": [
    {
     "name": "stdout",
     "output_type": "stream",
     "text": [
      "[['RAM', 'SAM', 'HARI', 'GITA', 'RAM'], ['a', 'b', 'SITA']]\n"
     ]
    }
   ],
   "source": [
    "a=[['RAM', 'SAM', 'HARI', 'GITA', 'RAM'], ['a', 'b', 'c']]\n",
    "a[1][2]=\"SITA\"\n",
    "print(a)\n"
   ]
  },
  {
   "cell_type": "code",
   "execution_count": 2,
   "id": "613a9db5",
   "metadata": {},
   "outputs": [
    {
     "name": "stdout",
     "output_type": "stream",
     "text": [
      "[]\n"
     ]
    }
   ],
   "source": [
    "a=[\"RAM\",\"SAM\",\"HARI\",\"GITA\"]\n",
    "a.clear()\n",
    "print(a)"
   ]
  },
  {
   "cell_type": "code",
   "execution_count": 5,
   "id": "365c7781",
   "metadata": {},
   "outputs": [
    {
     "name": "stdout",
     "output_type": "stream",
     "text": [
      "['e', 'r', 'i', 'c']\n"
     ]
    }
   ],
   "source": [
    "a=\"eric\"\n",
    "x=list(a)\n",
    "print(x)"
   ]
  },
  {
   "cell_type": "code",
   "execution_count": null,
   "id": "dfcea6d1",
   "metadata": {},
   "outputs": [],
   "source": []
  }
 ],
 "metadata": {
  "kernelspec": {
   "display_name": "Python 3 (ipykernel)",
   "language": "python",
   "name": "python3"
  },
  "language_info": {
   "codemirror_mode": {
    "name": "ipython",
    "version": 3
   },
   "file_extension": ".py",
   "mimetype": "text/x-python",
   "name": "python",
   "nbconvert_exporter": "python",
   "pygments_lexer": "ipython3",
   "version": "3.9.12"
  }
 },
 "nbformat": 4,
 "nbformat_minor": 5
}

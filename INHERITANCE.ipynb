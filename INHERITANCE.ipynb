{
 "cells": [
  {
   "cell_type": "code",
   "execution_count": null,
   "id": "6c6666aa",
   "metadata": {},
   "outputs": [],
   "source": [
    "#class A:\n"
   ]
  },
  {
   "cell_type": "code",
   "execution_count": 1,
   "id": "1609b7d6",
   "metadata": {},
   "outputs": [
    {
     "name": "stdout",
     "output_type": "stream",
     "text": [
      "ENTER THE NAME= eric bastola\n",
      "ENTER THE AGE= 19\n",
      "ENTER THE ADDRESS= santinagar\n",
      "HELLO , I AM eric bastola. I am from santinagar. I am 19 years old\n"
     ]
    }
   ],
   "source": [
    "class A:\n",
    "    def __init__(self,x):\n",
    "        self.n= n\n",
    "        self.age=age\n",
    "        self.a=a\n",
    "class B(A):\n",
    "    def info(self):\n",
    "        d= f\"HELLO , I AM {self.n}. I am from {self.a}. I am {self.age} years old\"\n",
    "        print(d)\n",
    "n= input(\"ENTER THE NAME= \")\n",
    "age= int(input(\"ENTER THE AGE= \"))\n",
    "a=input(\"ENTER THE ADDRESS= \")\n",
    "x=[n,age,a]\n",
    "obj= B(x)\n",
    "obj.info()\n"
   ]
  },
  {
   "cell_type": "code",
   "execution_count": 2,
   "id": "0cd1cda7",
   "metadata": {},
   "outputs": [
    {
     "name": "stdout",
     "output_type": "stream",
     "text": [
      "eric\n",
      "[10, 'eric', 91922, 'laxmi']\n"
     ]
    }
   ],
   "source": [
    "a=10\n",
    "b=\"eric\"\n",
    "c=91922\n",
    "d=\"laxmi\"\n",
    "e=[a,b,c,d]\n",
    "print(e[1])\n",
    "print(e)"
   ]
  },
  {
   "cell_type": "code",
   "execution_count": 5,
   "id": "fdc82db3",
   "metadata": {},
   "outputs": [
    {
     "name": "stdout",
     "output_type": "stream",
     "text": [
      "Enter your name= eric\n",
      "Enter your address= santinagar\n",
      "enter your age= 19\n",
      "Hello my name is eric. I am from 19. I am santinagar years old.\n"
     ]
    }
   ],
   "source": [
    "class A:\n",
    "    def __init__(self,age):\n",
    "        self.age=age\n",
    "class B(A):\n",
    "    def __init__(self,name,add,age):\n",
    "        self.add=add\n",
    "        self.name=name\n",
    "        A.__init__(self,age)\n",
    "    def info(self):\n",
    "        d=f\"Hello my name is {self.name}. I am from {self.add}. I am {self.age} years old.\"\n",
    "        print(d)\n",
    "name=input(\"Enter your name= \")\n",
    "add=input(\"Enter your address= \")\n",
    "age=int(input(\"enter your age= \"))\n",
    "obj= B(name,age,add)\n",
    "obj.info()\n",
    "        "
   ]
  },
  {
   "cell_type": "code",
   "execution_count": 12,
   "id": "2e3691ea",
   "metadata": {},
   "outputs": [
    {
     "name": "stdout",
     "output_type": "stream",
     "text": [
      "ENTER YOU NAME= eric bastola\n",
      "ENTER YOUR AGE= 18\n",
      "ENTER YOUR ADDRESS= santingaar\n",
      "HELLO MY NAME IS eric bastola. I AM FROM santingaar. I AM 18 years old.\n"
     ]
    }
   ],
   "source": [
    "class A:\n",
    "    def __init__(self,add):\n",
    "        self.add=add\n",
    "        \n",
    "class B:\n",
    "    def __init__(self,age):\n",
    "        self.age=age\n",
    "        \n",
    "class C(A,B):\n",
    "    def __init__(self,name,age,add):\n",
    "        self.name=name\n",
    "        A.__init__(self,add)\n",
    "        B.__init__(self,age)\n",
    "    def info(self):\n",
    "        x = f\"HELLO MY NAME IS {self.name}. I AM FROM {self.add}. I AM {self.age} years old.\"\n",
    "        print(x)\n",
    "name=input(\"ENTER YOU NAME= \")\n",
    "age=int(input(\"ENTER YOUR AGE= \"))\n",
    "add=input(\"ENTER YOUR ADDRESS= \")\n",
    "obj= C(name,age,add)\n",
    "obj.info()"
   ]
  },
  {
   "cell_type": "code",
   "execution_count": null,
   "id": "a9939454",
   "metadata": {},
   "outputs": [],
   "source": [
    "#private\n",
    "#public\n",
    "#protected"
   ]
  },
  {
   "cell_type": "code",
   "execution_count": 15,
   "id": "2cda3c74",
   "metadata": {},
   "outputs": [
    {
     "name": "stdout",
     "output_type": "stream",
     "text": [
      "ERIC\n",
      "KATHMANDU\n",
      "13\n"
     ]
    }
   ],
   "source": [
    "#private\n",
    "class Information:\n",
    "    def __init__(self,name,age,add):\n",
    "        self.name=name\n",
    "        self.age=age\n",
    "        self.add=add\n",
    "obj= Information(\"ERIC\",13,\"KATHMANDU\")\n",
    "\n",
    "print(obj.name)\n",
    "print(obj.add)\n",
    "print(obj.age)"
   ]
  },
  {
   "cell_type": "code",
   "execution_count": 17,
   "id": "3ba06640",
   "metadata": {},
   "outputs": [
    {
     "name": "stdout",
     "output_type": "stream",
     "text": [
      "ERIC\n",
      "14\n",
      "SANTINAGAR\n"
     ]
    }
   ],
   "source": [
    "#public\n",
    "class A:\n",
    "    def __init__(self,name,add,age):\n",
    "        self._name=name\n",
    "        self._add=add\n",
    "        self._age=age\n",
    "obj= A(\"ERIC\",\"SANTINAGAR\",14)\n",
    "print(obj._name)\n",
    "print(obj._age)\n",
    "print(obj._add)"
   ]
  },
  {
   "cell_type": "code",
   "execution_count": 18,
   "id": "2b1c5014",
   "metadata": {},
   "outputs": [
    {
     "name": "stdout",
     "output_type": "stream",
     "text": [
      "ERIC\n",
      "14\n",
      "SANTINAGAR\n"
     ]
    }
   ],
   "source": [
    "print(obj._name)\n",
    "print(obj._age)\n",
    "print(obj._add)"
   ]
  },
  {
   "cell_type": "code",
   "execution_count": 21,
   "id": "b3c4fe95",
   "metadata": {},
   "outputs": [
    {
     "name": "stdout",
     "output_type": "stream",
     "text": [
      "ERIC\n",
      "BIRATNAGAR\n",
      "19\n"
     ]
    }
   ],
   "source": [
    "#protected\n",
    "class B:\n",
    "    def __init__(self,name,add,age):\n",
    "        self._name=name\n",
    "        self._add=add\n",
    "        self._age=age\n",
    "obj= B(\"ERIC\",\"BIRATNAGAR\",19)\n",
    "print(obj._name)\n",
    "print(obj._add)\n",
    "print(obj._age)"
   ]
  },
  {
   "cell_type": "raw",
   "id": "f4115952",
   "metadata": {},
   "source": []
  },
  {
   "cell_type": "code",
   "execution_count": 36,
   "id": "e1f8cc24",
   "metadata": {},
   "outputs": [
    {
     "name": "stdout",
     "output_type": "stream",
     "text": [
      "ENTER YOUR NAME= eric\n",
      "ENTER YOUR ADDRESS= barola\n",
      "enter your age= 19\n",
      "HELLO EVERY ONE. MY NAME IS eric. I am from barola.\n",
      "19\n",
      "barola\n"
     ]
    }
   ],
   "source": [
    "class A:\n",
    "    def __init__(self,age):\n",
    "        self.__age=age\n",
    "    def infor(self):\n",
    "        print(self.__age)\n",
    "        print(self._add)\n",
    "   \n",
    "class B:\n",
    "    def __init__(self,add):\n",
    "        self._add=add\n",
    "class C(A,B):\n",
    "    def __init__(self,name,add,age):\n",
    "        self._name=name\n",
    "        A.__init__(self,age)\n",
    "        B.__init__(self,add)\n",
    "    def info(self):\n",
    "        x=f\"HELLO EVERY ONE. MY NAME IS {self._name}. I am from {self._add}.\"\n",
    "        print(x)\n",
    "name=input(\"ENTER YOUR NAME= \")\n",
    "add=input(\"ENTER YOUR ADDRESS= \")\n",
    "age=int(input(\"enter your age= \"))\n",
    "obj= C(name,add,age)\n",
    "obj.info()\n",
    "obj.infor()"
   ]
  },
  {
   "cell_type": "code",
   "execution_count": 50,
   "id": "9bea4de1",
   "metadata": {},
   "outputs": [
    {
     "name": "stdout",
     "output_type": "stream",
     "text": [
      "The length is 10\n",
      "The breadth is 20\n",
      "The height is 10\n",
      "The volume is 2000.\n",
      "The area is 200.\n"
     ]
    }
   ],
   "source": [
    "class Area:\n",
    "    def __init__(self,length,breadth):\n",
    "        self._l=length\n",
    "        self._b=breadth\n",
    "class Volume(Area):\n",
    "    def __init__(self,height,length,breadth):\n",
    "        self.h=height\n",
    "        Area.__init__(self,length,breadth)\n",
    "    def info(self):\n",
    "        print(\"The length is\",self._l)\n",
    "        print(\"The breadth is\",self._b)\n",
    "        print(\"The height is\",self.h)\n",
    "    def informer(self):\n",
    "        x=self._l*self._b*self.h\n",
    "        ar= self._l*self._b\n",
    "        print(\"The volume is\",str(x)+\".\")\n",
    "        print(\"The area is\",str(ar)+\".\")\n",
    "obj= Volume(10,10,20)\n",
    "obj.info()\n",
    "obj.informer()\n",
    "        "
   ]
  },
  {
   "cell_type": "code",
   "execution_count": 55,
   "id": "82921bce",
   "metadata": {},
   "outputs": [
    {
     "name": "stdout",
     "output_type": "stream",
     "text": [
      "ENTER YOUR NAME= eric\n",
      "ENTER YOUR AGE= 18\n",
      "ENTER YOUR ADDRESSS= bastola\n",
      "hello\n",
      "MY name eric. I am 18. I live in bastola\n"
     ]
    }
   ],
   "source": [
    "class A:\n",
    "    def __init__(self):\n",
    "        self.n=input(\"ENTER YOUR NAME= \")\n",
    "        self.age=int(input(\"ENTER YOUR AGE= \"))\n",
    "        self.a=input(\"ENTER YOUR ADDRESSS= \")\n",
    "    def info(self):\n",
    "        x=f\"MY name {self.n}. I am {self.age}. I live in {self.a}\"\n",
    "        print(x)\n",
    "class B(A):\n",
    "    def view_data(self):\n",
    "        print(\"hello\")\n",
    "        \n",
    "obj= B()\n",
    "obj.view_data()\n",
    "obj.info()"
   ]
  },
  {
   "cell_type": "code",
   "execution_count": 58,
   "id": "70f1493f",
   "metadata": {},
   "outputs": [
    {
     "name": "stdout",
     "output_type": "stream",
     "text": [
      "Enter your name= eric\n",
      "enter your age= 18\n",
      "Enter your address= santingasr\n",
      "HELLLO\n",
      "Hello!! My name is eric. I am from santingasr. I am 18 years old.\n"
     ]
    }
   ],
   "source": [
    "class A:\n",
    "    def __init__(self):\n",
    "        self.n=input(\"Enter your name= \")\n",
    "        self.age=int(input(\"enter your age= \"))\n",
    "        self.a=input(\"Enter your address= \")\n",
    "    def info(self):\n",
    "        x=f\"Hello!! My name is {self.n}. I am from {self.a}. I am {self.age} years old.\"\n",
    "        print(x)\n",
    "class B(A):\n",
    "    def view_data(self):\n",
    "        print(\"HELLLO\")\n",
    "        super().info()\n",
    "obj= B()\n",
    "obj.view_data()"
   ]
  },
  {
   "cell_type": "code",
   "execution_count": 1,
   "id": "6188fdc2",
   "metadata": {},
   "outputs": [
    {
     "data": {
      "text/plain": [
       "'C:\\\\Users\\\\user\\\\Merobhabisya'"
      ]
     },
     "execution_count": 1,
     "metadata": {},
     "output_type": "execute_result"
    }
   ],
   "source": [
    "pwd"
   ]
  },
  {
   "cell_type": "code",
   "execution_count": null,
   "id": "287b4414",
   "metadata": {},
   "outputs": [],
   "source": []
  }
 ],
 "metadata": {
  "kernelspec": {
   "display_name": "Python 3 (ipykernel)",
   "language": "python",
   "name": "python3"
  },
  "language_info": {
   "codemirror_mode": {
    "name": "ipython",
    "version": 3
   },
   "file_extension": ".py",
   "mimetype": "text/x-python",
   "name": "python",
   "nbconvert_exporter": "python",
   "pygments_lexer": "ipython3",
   "version": "3.9.12"
  }
 },
 "nbformat": 4,
 "nbformat_minor": 5
}
